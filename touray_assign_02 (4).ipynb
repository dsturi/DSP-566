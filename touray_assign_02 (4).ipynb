{
 "cells": [
  {
   "cell_type": "markdown",
   "metadata": {},
   "source": [
    "# DSP 556 Assignment_2\n",
    "\n",
    "### Sheikh-Sedat Touray\n",
    "\n",
    "### Importing all the libraries "
   ]
  },
  {
   "cell_type": "code",
   "execution_count": 279,
   "metadata": {},
   "outputs": [],
   "source": [
    "# Importing Libraries \n",
    "\n",
    "import pandas as pd\n",
    "import numpy as np\n",
    "np.set_printoptions(formatter={'float_kind':\"{:3.2f}\".format})\n",
    "from sklearn.neighbors import KNeighborsClassifier\n",
    "from sklearn.metrics import accuracy_score\n",
    "from sklearn.model_selection import KFold, train_test_split\n",
    "from sklearn.model_selection import cross_val_score\n",
    "from sklearn.model_selection import GridSearchCV\n",
    "from sklearn.metrics import confusion_matrix\n",
    "from sklearn.linear_model import LinearRegression\n",
    "from sklearn.ensemble import RandomForestClassifier\n",
    "import sklearn.metrics as skm \n",
    "from sklearn.preprocessing import OneHotEncoder \n",
    "from sklearn.preprocessing import StandardScaler\n",
    "from math import sqrt\n",
    "from sklearn.preprocessing import LabelEncoder\n",
    "from sklearn.metrics import roc_auc_score\n",
    "from sklearn.metrics import roc_curve\n",
    "from sklearn.tree import DecisionTreeClassifier\n",
    "from sklearn.svm import SVC \n",
    "from sklearn.neural_network import MLPClassifier\n",
    "from sklearn.linear_model import LogisticRegression\n"
   ]
  },
  {
   "cell_type": "markdown",
   "metadata": {},
   "source": [
    "#### The code below reads in the bike share dataset as a dataframe "
   ]
  },
  {
   "cell_type": "code",
   "execution_count": 280,
   "metadata": {},
   "outputs": [],
   "source": [
    "## 1. Find cross validated rmse for a LM using 5 folds using the entire data\n",
    "# 2. Reading the bikes csv as a dataframe \n",
    "df = pd.read_csv(\"bikes.csv\")"
   ]
  },
  {
   "cell_type": "markdown",
   "metadata": {},
   "source": [
    "#### The code below allows us to inspect the first five rows and all the columns "
   ]
  },
  {
   "cell_type": "code",
   "execution_count": 281,
   "metadata": {},
   "outputs": [
    {
     "data": {
      "text/html": [
       "<div>\n",
       "<style scoped>\n",
       "    .dataframe tbody tr th:only-of-type {\n",
       "        vertical-align: middle;\n",
       "    }\n",
       "\n",
       "    .dataframe tbody tr th {\n",
       "        vertical-align: top;\n",
       "    }\n",
       "\n",
       "    .dataframe thead th {\n",
       "        text-align: right;\n",
       "    }\n",
       "</style>\n",
       "<table border=\"1\" class=\"dataframe\">\n",
       "  <thead>\n",
       "    <tr style=\"text-align: right;\">\n",
       "      <th></th>\n",
       "      <th>date</th>\n",
       "      <th>season</th>\n",
       "      <th>year</th>\n",
       "      <th>month</th>\n",
       "      <th>day_of_week</th>\n",
       "      <th>weekend</th>\n",
       "      <th>holiday</th>\n",
       "      <th>temp_actual</th>\n",
       "      <th>temp_feel</th>\n",
       "      <th>humidity</th>\n",
       "      <th>windspeed</th>\n",
       "      <th>weather_cat</th>\n",
       "      <th>rides</th>\n",
       "    </tr>\n",
       "  </thead>\n",
       "  <tbody>\n",
       "    <tr>\n",
       "      <th>0</th>\n",
       "      <td>2011-01-01</td>\n",
       "      <td>winter</td>\n",
       "      <td>2011</td>\n",
       "      <td>Jan</td>\n",
       "      <td>Sat</td>\n",
       "      <td>True</td>\n",
       "      <td>no</td>\n",
       "      <td>57.399525</td>\n",
       "      <td>64.72625</td>\n",
       "      <td>80.5833</td>\n",
       "      <td>10.749882</td>\n",
       "      <td>categ2</td>\n",
       "      <td>654</td>\n",
       "    </tr>\n",
       "    <tr>\n",
       "      <th>1</th>\n",
       "      <td>2011-01-03</td>\n",
       "      <td>winter</td>\n",
       "      <td>2011</td>\n",
       "      <td>Jan</td>\n",
       "      <td>Mon</td>\n",
       "      <td>False</td>\n",
       "      <td>no</td>\n",
       "      <td>46.491663</td>\n",
       "      <td>49.04645</td>\n",
       "      <td>43.7273</td>\n",
       "      <td>16.636703</td>\n",
       "      <td>categ1</td>\n",
       "      <td>1229</td>\n",
       "    </tr>\n",
       "    <tr>\n",
       "      <th>2</th>\n",
       "      <td>2011-01-04</td>\n",
       "      <td>winter</td>\n",
       "      <td>2011</td>\n",
       "      <td>Jan</td>\n",
       "      <td>Tue</td>\n",
       "      <td>False</td>\n",
       "      <td>no</td>\n",
       "      <td>46.760000</td>\n",
       "      <td>51.09098</td>\n",
       "      <td>59.0435</td>\n",
       "      <td>10.739832</td>\n",
       "      <td>categ1</td>\n",
       "      <td>1454</td>\n",
       "    </tr>\n",
       "    <tr>\n",
       "      <th>3</th>\n",
       "      <td>2011-01-05</td>\n",
       "      <td>winter</td>\n",
       "      <td>2011</td>\n",
       "      <td>Jan</td>\n",
       "      <td>Wed</td>\n",
       "      <td>False</td>\n",
       "      <td>no</td>\n",
       "      <td>48.749427</td>\n",
       "      <td>52.63430</td>\n",
       "      <td>43.6957</td>\n",
       "      <td>12.522300</td>\n",
       "      <td>categ1</td>\n",
       "      <td>1518</td>\n",
       "    </tr>\n",
       "    <tr>\n",
       "      <th>4</th>\n",
       "      <td>2011-01-07</td>\n",
       "      <td>winter</td>\n",
       "      <td>2011</td>\n",
       "      <td>Jan</td>\n",
       "      <td>Fri</td>\n",
       "      <td>False</td>\n",
       "      <td>no</td>\n",
       "      <td>46.503324</td>\n",
       "      <td>50.79551</td>\n",
       "      <td>49.8696</td>\n",
       "      <td>11.304642</td>\n",
       "      <td>categ2</td>\n",
       "      <td>1362</td>\n",
       "    </tr>\n",
       "  </tbody>\n",
       "</table>\n",
       "</div>"
      ],
      "text/plain": [
       "         date  season  year month day_of_week  weekend holiday  temp_actual  \\\n",
       "0  2011-01-01  winter  2011   Jan         Sat     True      no    57.399525   \n",
       "1  2011-01-03  winter  2011   Jan         Mon    False      no    46.491663   \n",
       "2  2011-01-04  winter  2011   Jan         Tue    False      no    46.760000   \n",
       "3  2011-01-05  winter  2011   Jan         Wed    False      no    48.749427   \n",
       "4  2011-01-07  winter  2011   Jan         Fri    False      no    46.503324   \n",
       "\n",
       "   temp_feel  humidity  windspeed weather_cat  rides  \n",
       "0   64.72625   80.5833  10.749882      categ2    654  \n",
       "1   49.04645   43.7273  16.636703      categ1   1229  \n",
       "2   51.09098   59.0435  10.739832      categ1   1454  \n",
       "3   52.63430   43.6957  12.522300      categ1   1518  \n",
       "4   50.79551   49.8696  11.304642      categ2   1362  "
      ]
     },
     "execution_count": 281,
     "metadata": {},
     "output_type": "execute_result"
    }
   ],
   "source": [
    "# 3. Visually inspecting the data using the head method\n",
    "df.head()"
   ]
  },
  {
   "cell_type": "markdown",
   "metadata": {},
   "source": [
    "#### In the code below we use the onehot encoder to map to numbers the categorical data for the features "
   ]
  },
  {
   "cell_type": "code",
   "execution_count": 282,
   "metadata": {},
   "outputs": [],
   "source": [
    "#Initialize the onehot encoder and store it to the ohe variable \n",
    "ohe = OneHotEncoder()"
   ]
  },
  {
   "cell_type": "code",
   "execution_count": 283,
   "metadata": {},
   "outputs": [],
   "source": [
    "# Now we fit and transform the categorial variables with the onehot encoder \n",
    "ohe.fit_transform(df[['season','month','day_of_week','weekend','holiday','weather_cat']]).toarray()\n",
    "f1 = ohe.fit_transform(df[['season','month','day_of_week','weekend','holiday','weather_cat']]).toarray()\n"
   ]
  },
  {
   "cell_type": "code",
   "execution_count": 284,
   "metadata": {},
   "outputs": [
    {
     "data": {
      "text/plain": [
       "[array(['fall', 'spring', 'summer', 'winter'], dtype=object),\n",
       " array(['Apr', 'Aug', 'Dec', 'Feb', 'Jan', 'Jul', 'Jun', 'Mar', 'May',\n",
       "        'Nov', 'Oct', 'Sep'], dtype=object),\n",
       " array(['Fri', 'Mon', 'Sat', 'Sun', 'Thu', 'Tue', 'Wed'], dtype=object),\n",
       " array([False,  True]),\n",
       " array(['no', 'yes'], dtype=object),\n",
       " array(['categ1', 'categ2', 'categ3'], dtype=object)]"
      ]
     },
     "execution_count": 284,
     "metadata": {},
     "output_type": "execute_result"
    }
   ],
   "source": [
    "# I used this to inspect the categories of the encoded categorical data\n",
    "ohe.categories_\n",
    "\n"
   ]
  },
  {
   "cell_type": "code",
   "execution_count": 285,
   "metadata": {},
   "outputs": [
    {
     "data": {
      "text/plain": [
       "array([array(['fall', 'spring', 'summer', 'winter'], dtype=object),\n",
       "       array(['Apr', 'Aug', 'Dec', 'Feb', 'Jan', 'Jul', 'Jun', 'Mar', 'May',\n",
       "       'Nov', 'Oct', 'Sep'], dtype=object),\n",
       "       array(['Fri', 'Mon', 'Sat', 'Sun', 'Thu', 'Tue', 'Wed'], dtype=object),\n",
       "       array([False,  True]), array(['no', 'yes'], dtype=object),\n",
       "       array(['categ1', 'categ2', 'categ3'], dtype=object)], dtype=object)"
      ]
     },
     "execution_count": 285,
     "metadata": {},
     "output_type": "execute_result"
    }
   ],
   "source": [
    "# Store the categories to a variable  \n",
    "f1_labels = ohe.categories_\n",
    "np.array(f1_labels,dtype = object).ravel()\n"
   ]
  },
  {
   "cell_type": "code",
   "execution_count": 286,
   "metadata": {},
   "outputs": [],
   "source": [
    "#I ravel and concatenate them as single, array to keep them in one numpy array instead of multiple arrays\n",
    "f1_labels = np.asarray(f1_labels, dtype = object).ravel()\n",
    "f1_labels = np.concatenate(f1_labels)"
   ]
  },
  {
   "cell_type": "code",
   "execution_count": 287,
   "metadata": {},
   "outputs": [
    {
     "data": {
      "text/html": [
       "<div>\n",
       "<style scoped>\n",
       "    .dataframe tbody tr th:only-of-type {\n",
       "        vertical-align: middle;\n",
       "    }\n",
       "\n",
       "    .dataframe tbody tr th {\n",
       "        vertical-align: top;\n",
       "    }\n",
       "\n",
       "    .dataframe thead th {\n",
       "        text-align: right;\n",
       "    }\n",
       "</style>\n",
       "<table border=\"1\" class=\"dataframe\">\n",
       "  <thead>\n",
       "    <tr style=\"text-align: right;\">\n",
       "      <th></th>\n",
       "      <th>year</th>\n",
       "      <th>temp_actual</th>\n",
       "      <th>temp_feel</th>\n",
       "      <th>humidity</th>\n",
       "      <th>windspeed</th>\n",
       "    </tr>\n",
       "  </thead>\n",
       "  <tbody>\n",
       "    <tr>\n",
       "      <th>0</th>\n",
       "      <td>2011</td>\n",
       "      <td>57.399525</td>\n",
       "      <td>64.72625</td>\n",
       "      <td>80.5833</td>\n",
       "      <td>10.749882</td>\n",
       "    </tr>\n",
       "    <tr>\n",
       "      <th>1</th>\n",
       "      <td>2011</td>\n",
       "      <td>46.491663</td>\n",
       "      <td>49.04645</td>\n",
       "      <td>43.7273</td>\n",
       "      <td>16.636703</td>\n",
       "    </tr>\n",
       "    <tr>\n",
       "      <th>2</th>\n",
       "      <td>2011</td>\n",
       "      <td>46.760000</td>\n",
       "      <td>51.09098</td>\n",
       "      <td>59.0435</td>\n",
       "      <td>10.739832</td>\n",
       "    </tr>\n",
       "    <tr>\n",
       "      <th>3</th>\n",
       "      <td>2011</td>\n",
       "      <td>48.749427</td>\n",
       "      <td>52.63430</td>\n",
       "      <td>43.6957</td>\n",
       "      <td>12.522300</td>\n",
       "    </tr>\n",
       "    <tr>\n",
       "      <th>4</th>\n",
       "      <td>2011</td>\n",
       "      <td>46.503324</td>\n",
       "      <td>50.79551</td>\n",
       "      <td>49.8696</td>\n",
       "      <td>11.304642</td>\n",
       "    </tr>\n",
       "  </tbody>\n",
       "</table>\n",
       "</div>"
      ],
      "text/plain": [
       "   year  temp_actual  temp_feel  humidity  windspeed\n",
       "0  2011    57.399525   64.72625   80.5833  10.749882\n",
       "1  2011    46.491663   49.04645   43.7273  16.636703\n",
       "2  2011    46.760000   51.09098   59.0435  10.739832\n",
       "3  2011    48.749427   52.63430   43.6957  12.522300\n",
       "4  2011    46.503324   50.79551   49.8696  11.304642"
      ]
     },
     "execution_count": 287,
     "metadata": {},
     "output_type": "execute_result"
    }
   ],
   "source": [
    "# I store the numerical data to variable and named it f2 \n",
    "f2 = df.drop(['date','season','month','day_of_week','weekend','holiday','weather_cat','rides'],axis=1)\n",
    "f2.head()"
   ]
  },
  {
   "cell_type": "code",
   "execution_count": 288,
   "metadata": {},
   "outputs": [
    {
     "data": {
      "text/html": [
       "<div>\n",
       "<style scoped>\n",
       "    .dataframe tbody tr th:only-of-type {\n",
       "        vertical-align: middle;\n",
       "    }\n",
       "\n",
       "    .dataframe tbody tr th {\n",
       "        vertical-align: top;\n",
       "    }\n",
       "\n",
       "    .dataframe thead th {\n",
       "        text-align: right;\n",
       "    }\n",
       "</style>\n",
       "<table border=\"1\" class=\"dataframe\">\n",
       "  <thead>\n",
       "    <tr style=\"text-align: right;\">\n",
       "      <th></th>\n",
       "      <th>fall</th>\n",
       "      <th>spring</th>\n",
       "      <th>summer</th>\n",
       "      <th>winter</th>\n",
       "      <th>Apr</th>\n",
       "      <th>Aug</th>\n",
       "      <th>Dec</th>\n",
       "      <th>Feb</th>\n",
       "      <th>Jan</th>\n",
       "      <th>Jul</th>\n",
       "      <th>...</th>\n",
       "      <th>Thu</th>\n",
       "      <th>Tue</th>\n",
       "      <th>Wed</th>\n",
       "      <th>False</th>\n",
       "      <th>True</th>\n",
       "      <th>no</th>\n",
       "      <th>yes</th>\n",
       "      <th>categ1</th>\n",
       "      <th>categ2</th>\n",
       "      <th>categ3</th>\n",
       "    </tr>\n",
       "  </thead>\n",
       "  <tbody>\n",
       "    <tr>\n",
       "      <th>0</th>\n",
       "      <td>0.0</td>\n",
       "      <td>0.0</td>\n",
       "      <td>0.0</td>\n",
       "      <td>1.0</td>\n",
       "      <td>0.0</td>\n",
       "      <td>0.0</td>\n",
       "      <td>0.0</td>\n",
       "      <td>0.0</td>\n",
       "      <td>1.0</td>\n",
       "      <td>0.0</td>\n",
       "      <td>...</td>\n",
       "      <td>0.0</td>\n",
       "      <td>0.0</td>\n",
       "      <td>0.0</td>\n",
       "      <td>0.0</td>\n",
       "      <td>1.0</td>\n",
       "      <td>1.0</td>\n",
       "      <td>0.0</td>\n",
       "      <td>0.0</td>\n",
       "      <td>1.0</td>\n",
       "      <td>0.0</td>\n",
       "    </tr>\n",
       "    <tr>\n",
       "      <th>1</th>\n",
       "      <td>0.0</td>\n",
       "      <td>0.0</td>\n",
       "      <td>0.0</td>\n",
       "      <td>1.0</td>\n",
       "      <td>0.0</td>\n",
       "      <td>0.0</td>\n",
       "      <td>0.0</td>\n",
       "      <td>0.0</td>\n",
       "      <td>1.0</td>\n",
       "      <td>0.0</td>\n",
       "      <td>...</td>\n",
       "      <td>0.0</td>\n",
       "      <td>0.0</td>\n",
       "      <td>0.0</td>\n",
       "      <td>1.0</td>\n",
       "      <td>0.0</td>\n",
       "      <td>1.0</td>\n",
       "      <td>0.0</td>\n",
       "      <td>1.0</td>\n",
       "      <td>0.0</td>\n",
       "      <td>0.0</td>\n",
       "    </tr>\n",
       "    <tr>\n",
       "      <th>2</th>\n",
       "      <td>0.0</td>\n",
       "      <td>0.0</td>\n",
       "      <td>0.0</td>\n",
       "      <td>1.0</td>\n",
       "      <td>0.0</td>\n",
       "      <td>0.0</td>\n",
       "      <td>0.0</td>\n",
       "      <td>0.0</td>\n",
       "      <td>1.0</td>\n",
       "      <td>0.0</td>\n",
       "      <td>...</td>\n",
       "      <td>0.0</td>\n",
       "      <td>1.0</td>\n",
       "      <td>0.0</td>\n",
       "      <td>1.0</td>\n",
       "      <td>0.0</td>\n",
       "      <td>1.0</td>\n",
       "      <td>0.0</td>\n",
       "      <td>1.0</td>\n",
       "      <td>0.0</td>\n",
       "      <td>0.0</td>\n",
       "    </tr>\n",
       "    <tr>\n",
       "      <th>3</th>\n",
       "      <td>0.0</td>\n",
       "      <td>0.0</td>\n",
       "      <td>0.0</td>\n",
       "      <td>1.0</td>\n",
       "      <td>0.0</td>\n",
       "      <td>0.0</td>\n",
       "      <td>0.0</td>\n",
       "      <td>0.0</td>\n",
       "      <td>1.0</td>\n",
       "      <td>0.0</td>\n",
       "      <td>...</td>\n",
       "      <td>0.0</td>\n",
       "      <td>0.0</td>\n",
       "      <td>1.0</td>\n",
       "      <td>1.0</td>\n",
       "      <td>0.0</td>\n",
       "      <td>1.0</td>\n",
       "      <td>0.0</td>\n",
       "      <td>1.0</td>\n",
       "      <td>0.0</td>\n",
       "      <td>0.0</td>\n",
       "    </tr>\n",
       "    <tr>\n",
       "      <th>4</th>\n",
       "      <td>0.0</td>\n",
       "      <td>0.0</td>\n",
       "      <td>0.0</td>\n",
       "      <td>1.0</td>\n",
       "      <td>0.0</td>\n",
       "      <td>0.0</td>\n",
       "      <td>0.0</td>\n",
       "      <td>0.0</td>\n",
       "      <td>1.0</td>\n",
       "      <td>0.0</td>\n",
       "      <td>...</td>\n",
       "      <td>0.0</td>\n",
       "      <td>0.0</td>\n",
       "      <td>0.0</td>\n",
       "      <td>1.0</td>\n",
       "      <td>0.0</td>\n",
       "      <td>1.0</td>\n",
       "      <td>0.0</td>\n",
       "      <td>0.0</td>\n",
       "      <td>1.0</td>\n",
       "      <td>0.0</td>\n",
       "    </tr>\n",
       "  </tbody>\n",
       "</table>\n",
       "<p>5 rows × 30 columns</p>\n",
       "</div>"
      ],
      "text/plain": [
       "   fall  spring  summer  winter  Apr  Aug  Dec  Feb  Jan  Jul  ...  Thu  Tue  \\\n",
       "0   0.0     0.0     0.0     1.0  0.0  0.0  0.0  0.0  1.0  0.0  ...  0.0  0.0   \n",
       "1   0.0     0.0     0.0     1.0  0.0  0.0  0.0  0.0  1.0  0.0  ...  0.0  0.0   \n",
       "2   0.0     0.0     0.0     1.0  0.0  0.0  0.0  0.0  1.0  0.0  ...  0.0  1.0   \n",
       "3   0.0     0.0     0.0     1.0  0.0  0.0  0.0  0.0  1.0  0.0  ...  0.0  0.0   \n",
       "4   0.0     0.0     0.0     1.0  0.0  0.0  0.0  0.0  1.0  0.0  ...  0.0  0.0   \n",
       "\n",
       "   Wed  False  True   no  yes  categ1  categ2  categ3  \n",
       "0  0.0    0.0   1.0  1.0  0.0     0.0     1.0     0.0  \n",
       "1  0.0    1.0   0.0  1.0  0.0     1.0     0.0     0.0  \n",
       "2  0.0    1.0   0.0  1.0  0.0     1.0     0.0     0.0  \n",
       "3  1.0    1.0   0.0  1.0  0.0     1.0     0.0     0.0  \n",
       "4  0.0    1.0   0.0  1.0  0.0     0.0     1.0     0.0  \n",
       "\n",
       "[5 rows x 30 columns]"
      ]
     },
     "execution_count": 288,
     "metadata": {},
     "output_type": "execute_result"
    }
   ],
   "source": [
    "# I created a data frame out of the encoded categorical data and named it f1 and inspected the first 5 rows \n",
    "f1=pd.DataFrame(f1,columns = f1_labels)\n",
    "f1.head()"
   ]
  },
  {
   "cell_type": "markdown",
   "metadata": {},
   "source": [
    "# 1. RMSE of CV on Entire Dataset "
   ]
  },
  {
   "cell_type": "code",
   "execution_count": 289,
   "metadata": {},
   "outputs": [
    {
     "name": "stdout",
     "output_type": "stream",
     "text": [
      " 5-Fold CV RMSE: 531.99\n"
     ]
    }
   ],
   "source": [
    "#get data and concatenating f1 and f2 will give me all my predictors \n",
    "features  = pd.concat([f1,f2],axis=1)\n",
    "\n",
    "#response varaible is ride\n",
    "target = df['rides']\n",
    "\n",
    "# start making the linear regession model\n",
    "lm = LinearRegression()\n",
    "\n",
    "# The rmse of my CV and we used the absolutue function to deal with negatives \n",
    "score = cross_val_score(lm, features, target, cv=5, scoring = 'neg_mean_absolute_error')\n",
    "print(\" 5-Fold CV RMSE: {:.2f}\".format(np.mean(np.abs(score))))\n"
   ]
  },
  {
   "cell_type": "markdown",
   "metadata": {},
   "source": [
    "#### RMSE for Training Vs Test not necessary but it is nice to see and compare it with the CV RMSE "
   ]
  },
  {
   "cell_type": "code",
   "execution_count": 290,
   "metadata": {},
   "outputs": [],
   "source": [
    "# SPlit the training and testing sets \n",
    "X_train, X_test, y_train, y_test = train_test_split(features, target, train_size=0.8, test_size=0.2, random_state=3)"
   ]
  },
  {
   "cell_type": "code",
   "execution_count": 291,
   "metadata": {},
   "outputs": [],
   "source": [
    "# fit the linear model on the training set \n",
    "lm = lm.fit(X_train,y_train)"
   ]
  },
  {
   "cell_type": "code",
   "execution_count": 292,
   "metadata": {},
   "outputs": [
    {
     "name": "stdout",
     "output_type": "stream",
     "text": [
      "MSE Score for Test data: 566.09\n"
     ]
    }
   ],
   "source": [
    "# Predit unseen data\n",
    "y_pred = lm.predict(X_test)\n",
    "#test the model mse\n",
    "mse = skm.mean_squared_error(y_test,y_pred)\n",
    "# we take the square root of the MSE to get the RMSE \n",
    "rmse = print(\"MSE Score for Test data: {:.2f}\".format(sqrt(mse)))\n",
    "                               "
   ]
  },
  {
   "cell_type": "markdown",
   "metadata": {},
   "source": [
    "Above is the RMSE for training vs test data"
   ]
  },
  {
   "cell_type": "markdown",
   "metadata": {},
   "source": [
    "# 2. Find the Cross Validation Scores First using the Default score and then AUC "
   ]
  },
  {
   "cell_type": "code",
   "execution_count": 293,
   "metadata": {},
   "outputs": [],
   "source": [
    "# 2. Reading the default csv as a dataframe \n",
    "df2 = pd.read_csv(\"default.csv\")"
   ]
  },
  {
   "cell_type": "code",
   "execution_count": 294,
   "metadata": {},
   "outputs": [
    {
     "data": {
      "text/html": [
       "<div>\n",
       "<style scoped>\n",
       "    .dataframe tbody tr th:only-of-type {\n",
       "        vertical-align: middle;\n",
       "    }\n",
       "\n",
       "    .dataframe tbody tr th {\n",
       "        vertical-align: top;\n",
       "    }\n",
       "\n",
       "    .dataframe thead th {\n",
       "        text-align: right;\n",
       "    }\n",
       "</style>\n",
       "<table border=\"1\" class=\"dataframe\">\n",
       "  <thead>\n",
       "    <tr style=\"text-align: right;\">\n",
       "      <th></th>\n",
       "      <th>Unnamed: 0</th>\n",
       "      <th>default</th>\n",
       "      <th>student</th>\n",
       "      <th>balance</th>\n",
       "      <th>income</th>\n",
       "    </tr>\n",
       "  </thead>\n",
       "  <tbody>\n",
       "    <tr>\n",
       "      <th>0</th>\n",
       "      <td>1</td>\n",
       "      <td>No</td>\n",
       "      <td>No</td>\n",
       "      <td>729.526495</td>\n",
       "      <td>44361.625074</td>\n",
       "    </tr>\n",
       "    <tr>\n",
       "      <th>1</th>\n",
       "      <td>2</td>\n",
       "      <td>No</td>\n",
       "      <td>Yes</td>\n",
       "      <td>817.180407</td>\n",
       "      <td>12106.134700</td>\n",
       "    </tr>\n",
       "    <tr>\n",
       "      <th>2</th>\n",
       "      <td>3</td>\n",
       "      <td>No</td>\n",
       "      <td>No</td>\n",
       "      <td>1073.549164</td>\n",
       "      <td>31767.138947</td>\n",
       "    </tr>\n",
       "    <tr>\n",
       "      <th>3</th>\n",
       "      <td>4</td>\n",
       "      <td>No</td>\n",
       "      <td>No</td>\n",
       "      <td>529.250605</td>\n",
       "      <td>35704.493935</td>\n",
       "    </tr>\n",
       "    <tr>\n",
       "      <th>4</th>\n",
       "      <td>5</td>\n",
       "      <td>No</td>\n",
       "      <td>No</td>\n",
       "      <td>785.655883</td>\n",
       "      <td>38463.495879</td>\n",
       "    </tr>\n",
       "  </tbody>\n",
       "</table>\n",
       "</div>"
      ],
      "text/plain": [
       "   Unnamed: 0 default student      balance        income\n",
       "0           1      No      No   729.526495  44361.625074\n",
       "1           2      No     Yes   817.180407  12106.134700\n",
       "2           3      No      No  1073.549164  31767.138947\n",
       "3           4      No      No   529.250605  35704.493935\n",
       "4           5      No      No   785.655883  38463.495879"
      ]
     },
     "execution_count": 294,
     "metadata": {},
     "output_type": "execute_result"
    }
   ],
   "source": [
    "# 2i. Visually inspecting the data using the head method\n",
    "df2.head()"
   ]
  },
  {
   "cell_type": "code",
   "execution_count": 295,
   "metadata": {},
   "outputs": [],
   "source": [
    "# Splitting the dataset into features and target variables \n",
    "x2 = df2[['balance','income']]\n",
    "\n",
    "#Below is default the target \n",
    "y = df2['default']\n"
   ]
  },
  {
   "cell_type": "code",
   "execution_count": 296,
   "metadata": {},
   "outputs": [
    {
     "data": {
      "text/plain": [
       "array([0, 0, 0, ..., 0, 0, 0])"
      ]
     },
     "execution_count": 296,
     "metadata": {},
     "output_type": "execute_result"
    }
   ],
   "source": [
    "# Encode the output to avoid errors \n",
    "lb = LabelEncoder() \n",
    "y=lb.fit_transform(y)\n",
    "y\n"
   ]
  },
  {
   "cell_type": "code",
   "execution_count": 297,
   "metadata": {},
   "outputs": [],
   "source": [
    "# USe one hot encoder for categorical predictors and store them in a variable \n",
    "ohe.fit_transform(df2[['student']]).toarray()\n",
    "x1 = ohe.fit_transform(df2[['student']]).toarray()"
   ]
  },
  {
   "cell_type": "code",
   "execution_count": 298,
   "metadata": {},
   "outputs": [
    {
     "data": {
      "text/plain": [
       "[array(['No', 'Yes'], dtype=object)]"
      ]
     },
     "execution_count": 298,
     "metadata": {},
     "output_type": "execute_result"
    }
   ],
   "source": [
    "# Visualize the labels \n",
    "ohe.categories_"
   ]
  },
  {
   "cell_type": "code",
   "execution_count": 299,
   "metadata": {},
   "outputs": [
    {
     "data": {
      "text/plain": [
       "array([['No', 'Yes']], dtype=object)"
      ]
     },
     "execution_count": 299,
     "metadata": {},
     "output_type": "execute_result"
    }
   ],
   "source": [
    "# store the labels and turn them into a single numpy array \n",
    "x1_labels = ohe.categories_\n",
    "np.array(x1_labels)"
   ]
  },
  {
   "cell_type": "code",
   "execution_count": 300,
   "metadata": {},
   "outputs": [
    {
     "data": {
      "text/html": [
       "<div>\n",
       "<style scoped>\n",
       "    .dataframe tbody tr th:only-of-type {\n",
       "        vertical-align: middle;\n",
       "    }\n",
       "\n",
       "    .dataframe tbody tr th {\n",
       "        vertical-align: top;\n",
       "    }\n",
       "\n",
       "    .dataframe thead tr th {\n",
       "        text-align: left;\n",
       "    }\n",
       "</style>\n",
       "<table border=\"1\" class=\"dataframe\">\n",
       "  <thead>\n",
       "    <tr>\n",
       "      <th></th>\n",
       "      <th>No</th>\n",
       "      <th>Yes</th>\n",
       "    </tr>\n",
       "  </thead>\n",
       "  <tbody>\n",
       "    <tr>\n",
       "      <th>0</th>\n",
       "      <td>1.0</td>\n",
       "      <td>0.0</td>\n",
       "    </tr>\n",
       "    <tr>\n",
       "      <th>1</th>\n",
       "      <td>0.0</td>\n",
       "      <td>1.0</td>\n",
       "    </tr>\n",
       "    <tr>\n",
       "      <th>2</th>\n",
       "      <td>1.0</td>\n",
       "      <td>0.0</td>\n",
       "    </tr>\n",
       "    <tr>\n",
       "      <th>3</th>\n",
       "      <td>1.0</td>\n",
       "      <td>0.0</td>\n",
       "    </tr>\n",
       "    <tr>\n",
       "      <th>4</th>\n",
       "      <td>1.0</td>\n",
       "      <td>0.0</td>\n",
       "    </tr>\n",
       "  </tbody>\n",
       "</table>\n",
       "</div>"
      ],
      "text/plain": [
       "    No  Yes\n",
       "0  1.0  0.0\n",
       "1  0.0  1.0\n",
       "2  1.0  0.0\n",
       "3  1.0  0.0\n",
       "4  1.0  0.0"
      ]
     },
     "execution_count": 300,
     "metadata": {},
     "output_type": "execute_result"
    }
   ],
   "source": [
    "# I turned the array into a Data frame and visualized the first 5 rows \n",
    "x1=pd.DataFrame(x1,columns = x1_labels)\n",
    "x1.head()"
   ]
  },
  {
   "cell_type": "code",
   "execution_count": 301,
   "metadata": {},
   "outputs": [],
   "source": [
    "# concatenate the numerical and encoded categorical data into one dataframe \n",
    "x= pd.concat([x1,x2],axis=1)\n"
   ]
  },
  {
   "cell_type": "code",
   "execution_count": 302,
   "metadata": {},
   "outputs": [],
   "source": [
    "# Initialize the model with k=5\n",
    "klm = KNeighborsClassifier(n_neighbors=5)\n",
    "#fit the model on the entire data set \n",
    "model = klm.fit(x,y)\n"
   ]
  },
  {
   "cell_type": "markdown",
   "metadata": {},
   "source": [
    "### The default score is the Accuracy score which is printed below "
   ]
  },
  {
   "cell_type": "code",
   "execution_count": 303,
   "metadata": {},
   "outputs": [
    {
     "name": "stdout",
     "output_type": "stream",
     "text": [
      "5-Fold DefaultScore: [0.97 0.97 0.97 0.97 0.96]\n",
      "\n",
      "\n",
      "5-Fold mean DefaultScore: 0.97\n"
     ]
    }
   ],
   "source": [
    "# do the 5-fold cross validation\n",
    "scored = cross_val_score(model, x, y, cv=5)\n",
    "print(\"5-Fold DefaultScore: {}\".format(scores))\n",
    "print('\\n')\n",
    "print(\"5-Fold mean DefaultScore: {:3.2f}\".format(np.mean(np.abs(scored))))\n"
   ]
  },
  {
   "cell_type": "markdown",
   "metadata": {},
   "source": [
    "### Now we use the Area under the Curve, AUC score in the CV"
   ]
  },
  {
   "cell_type": "code",
   "execution_count": 304,
   "metadata": {},
   "outputs": [
    {
     "name": "stdout",
     "output_type": "stream",
     "text": [
      "5-Fold ROC_AUC: [0.79 0.79 0.80 0.80 0.77]\n",
      "\n",
      "\n",
      "5-Fold mean ROC_AUC: 0.79\n"
     ]
    }
   ],
   "source": [
    "\n",
    "# do the 5-fold cross validation\n",
    "scores = cross_val_score(model, x, y, cv=5, scoring= 'roc_auc')\n",
    "print(\"5-Fold ROC_AUC: {}\".format(scores))\n",
    "print('\\n')\n",
    "# Print a mean score for all the folds \n",
    "print(\"5-Fold mean ROC_AUC: {:3.2f}\".format(np.mean(np.abs(scores))))\n"
   ]
  },
  {
   "cell_type": "markdown",
   "metadata": {},
   "source": [
    "#### Repeating number 2 on the train vs Test not necessary for this assignment but it was not to see difference "
   ]
  },
  {
   "cell_type": "code",
   "execution_count": 305,
   "metadata": {},
   "outputs": [],
   "source": [
    "\n",
    "\n",
    "\n",
    "# SPlit the training and testing sets \n",
    "X_train1, X_test1, y_train1, y_test1 = train_test_split(x, y, train_size=0.8, test_size=0.2, random_state=3)\n",
    "\n",
    "# USe the scalar function to nor\n",
    "sc = StandardScaler()\n",
    "X_train1 = sc.fit_transform(X_train1)\n",
    "X_test1 = sc.fit_transform(X_test1)\n"
   ]
  },
  {
   "cell_type": "code",
   "execution_count": 306,
   "metadata": {},
   "outputs": [
    {
     "name": "stdout",
     "output_type": "stream",
     "text": [
      "Fold Accuracies: [0.97 0.97 0.97 0.97 0.96]\n"
     ]
    }
   ],
   "source": [
    "# Initializing the model\n",
    "klm = KNeighborsClassifier(n_neighbors=5)\n",
    "#fitting model on train set \n",
    "model = klm.fit(X_train1,y_train1)\n",
    "\n",
    "# do the 5-fold cross validation on train set \n",
    "scores = cross_val_score(model, X_train1,y_train1, cv=5)\n",
    "print(\"Fold Accuracies: {}\".format(scores))\n"
   ]
  },
  {
   "cell_type": "code",
   "execution_count": 307,
   "metadata": {},
   "outputs": [
    {
     "name": "stdout",
     "output_type": "stream",
     "text": [
      "ROC and AUC Score: 0.72\n"
     ]
    }
   ],
   "source": [
    "#Predicting on unseen data\n",
    "pred_y = model.predict(X_test1)\n",
    "# AUC on test \n",
    "scoring = roc_auc_score(y_test1,pred_y)\n",
    "print(\"ROC and AUC Score: {:3.2f}\".format(scoring))"
   ]
  },
  {
   "cell_type": "markdown",
   "metadata": {},
   "source": [
    "# 3. Using Grid Search to choose best parameters and get Accuracies "
   ]
  },
  {
   "cell_type": "code",
   "execution_count": 308,
   "metadata": {},
   "outputs": [
    {
     "name": "stdout",
     "output_type": "stream",
     "text": [
      "Grid Search: best parameters: {'n_neighbors': 17}\n"
     ]
    }
   ],
   "source": [
    "# KNN\n",
    "modeln = KNeighborsClassifier()\n",
    "\n",
    "# do the 10-fold cross validation and shuffle the data\n",
    "cv = KFold(n_splits=10,  shuffle = True)\n",
    "\n",
    "# grid search\n",
    "param_grid = {'n_neighbors': list(range(1,31))}\n",
    "grid = GridSearchCV(modeln, param_grid, cv=cv)\n",
    "\n",
    "# performing grid search\n",
    "grid.fit(X_train1, y_train1)\n",
    "print(\"Grid Search: best parameters: {}\".format(grid.best_params_))"
   ]
  },
  {
   "cell_type": "code",
   "execution_count": 309,
   "metadata": {},
   "outputs": [
    {
     "name": "stdout",
     "output_type": "stream",
     "text": [
      "Accuracy: 0.71 \n"
     ]
    }
   ],
   "source": [
    "# accuracy of best model with confidence interval\n",
    "y_pred = grid.best_estimator_.predict(X_test1)\n",
    "Auc = roc_auc_score(y_test1, y_pred)\n",
    "#lb,ub = classification_confint(Auc,X_test.shape[0])\n",
    "print(\"Accuracy: {:3.2f} \".format(Auc))"
   ]
  },
  {
   "cell_type": "code",
   "execution_count": 310,
   "metadata": {},
   "outputs": [
    {
     "name": "stdout",
     "output_type": "stream",
     "text": [
      "Accuracy: 0.72 \n"
     ]
    }
   ],
   "source": [
    "# best tuning is k=9\n",
    "modelb = KNeighborsClassifier(n_neighbors=9)\n",
    "modelb = modelb.fit(X_train1,y_train1)\n",
    "\n",
    "#make a prediction \n",
    "bestpred = modelb.predict(X_test1)\n",
    "#Storing AUC for the prediction on test and printing score \n",
    "Aucbest = roc_auc_score(y_test1, bestpred)\n",
    "print(\"Accuracy: {:3.2f} \".format(Aucbest))\n",
    "\n"
   ]
  },
  {
   "cell_type": "markdown",
   "metadata": {},
   "source": [
    "From the accuracy above we can see that K = 9 is giving best accuracy score"
   ]
  },
  {
   "cell_type": "markdown",
   "metadata": {},
   "source": [
    "# 4. Using the ischemic data to find Accuracy, AUC and Confusion Matrix"
   ]
  },
  {
   "cell_type": "code",
   "execution_count": 311,
   "metadata": {},
   "outputs": [],
   "source": [
    "# 4. Using the Ischemic data set fit a random forest\n",
    "df3 = pd.read_csv(\"ischemic.csv\")"
   ]
  },
  {
   "cell_type": "code",
   "execution_count": 312,
   "metadata": {},
   "outputs": [
    {
     "data": {
      "text/html": [
       "<div>\n",
       "<style scoped>\n",
       "    .dataframe tbody tr th:only-of-type {\n",
       "        vertical-align: middle;\n",
       "    }\n",
       "\n",
       "    .dataframe tbody tr th {\n",
       "        vertical-align: top;\n",
       "    }\n",
       "\n",
       "    .dataframe thead th {\n",
       "        text-align: right;\n",
       "    }\n",
       "</style>\n",
       "<table border=\"1\" class=\"dataframe\">\n",
       "  <thead>\n",
       "    <tr style=\"text-align: right;\">\n",
       "      <th></th>\n",
       "      <th>stroke</th>\n",
       "      <th>nascet_scale</th>\n",
       "      <th>calc_vol</th>\n",
       "      <th>calc_vol_prop</th>\n",
       "      <th>matx_vol</th>\n",
       "      <th>matx_vol_prop</th>\n",
       "      <th>lrnc_vol</th>\n",
       "      <th>lrnc_vol_prop</th>\n",
       "      <th>max_calc_area</th>\n",
       "      <th>max_calc_area_prop</th>\n",
       "      <th>...</th>\n",
       "      <th>wall_vol</th>\n",
       "      <th>max_stenosis_by_diameter</th>\n",
       "      <th>age</th>\n",
       "      <th>male</th>\n",
       "      <th>smoking_history</th>\n",
       "      <th>atrial_fibrillation</th>\n",
       "      <th>coronary_artery_disease</th>\n",
       "      <th>diabetes_history</th>\n",
       "      <th>hypercholesterolemia_history</th>\n",
       "      <th>hypertension_history</th>\n",
       "    </tr>\n",
       "  </thead>\n",
       "  <tbody>\n",
       "    <tr>\n",
       "      <th>0</th>\n",
       "      <td>no</td>\n",
       "      <td>0</td>\n",
       "      <td>235.252599</td>\n",
       "      <td>0.070443</td>\n",
       "      <td>3156.834690</td>\n",
       "      <td>0.759958</td>\n",
       "      <td>224.871710</td>\n",
       "      <td>0.091085</td>\n",
       "      <td>12.350494</td>\n",
       "      <td>0.365768</td>\n",
       "      <td>...</td>\n",
       "      <td>4192.170353</td>\n",
       "      <td>10.544113</td>\n",
       "      <td>72</td>\n",
       "      <td>1</td>\n",
       "      <td>1</td>\n",
       "      <td>0</td>\n",
       "      <td>0</td>\n",
       "      <td>0</td>\n",
       "      <td>0</td>\n",
       "      <td>1</td>\n",
       "    </tr>\n",
       "    <tr>\n",
       "      <th>1</th>\n",
       "      <td>no</td>\n",
       "      <td>0</td>\n",
       "      <td>31.433595</td>\n",
       "      <td>0.016165</td>\n",
       "      <td>3032.860796</td>\n",
       "      <td>0.813306</td>\n",
       "      <td>368.560663</td>\n",
       "      <td>0.133989</td>\n",
       "      <td>7.130660</td>\n",
       "      <td>0.211247</td>\n",
       "      <td>...</td>\n",
       "      <td>3917.039836</td>\n",
       "      <td>18.646197</td>\n",
       "      <td>76</td>\n",
       "      <td>1</td>\n",
       "      <td>1</td>\n",
       "      <td>0</td>\n",
       "      <td>0</td>\n",
       "      <td>1</td>\n",
       "      <td>1</td>\n",
       "      <td>1</td>\n",
       "    </tr>\n",
       "    <tr>\n",
       "      <th>2</th>\n",
       "      <td>no</td>\n",
       "      <td>0</td>\n",
       "      <td>113.404823</td>\n",
       "      <td>0.038081</td>\n",
       "      <td>3835.220140</td>\n",
       "      <td>0.782526</td>\n",
       "      <td>321.158928</td>\n",
       "      <td>0.083037</td>\n",
       "      <td>16.286916</td>\n",
       "      <td>0.408811</td>\n",
       "      <td>...</td>\n",
       "      <td>4935.327463</td>\n",
       "      <td>19.735114</td>\n",
       "      <td>72</td>\n",
       "      <td>0</td>\n",
       "      <td>0</td>\n",
       "      <td>0</td>\n",
       "      <td>0</td>\n",
       "      <td>0</td>\n",
       "      <td>0</td>\n",
       "      <td>0</td>\n",
       "    </tr>\n",
       "    <tr>\n",
       "      <th>3</th>\n",
       "      <td>yes</td>\n",
       "      <td>0</td>\n",
       "      <td>780.823789</td>\n",
       "      <td>0.213432</td>\n",
       "      <td>3518.876937</td>\n",
       "      <td>0.761089</td>\n",
       "      <td>140.517346</td>\n",
       "      <td>0.032065</td>\n",
       "      <td>63.350869</td>\n",
       "      <td>0.576206</td>\n",
       "      <td>...</td>\n",
       "      <td>4909.503817</td>\n",
       "      <td>20.288317</td>\n",
       "      <td>61</td>\n",
       "      <td>1</td>\n",
       "      <td>1</td>\n",
       "      <td>0</td>\n",
       "      <td>0</td>\n",
       "      <td>1</td>\n",
       "      <td>1</td>\n",
       "      <td>1</td>\n",
       "    </tr>\n",
       "    <tr>\n",
       "      <th>4</th>\n",
       "      <td>no</td>\n",
       "      <td>0</td>\n",
       "      <td>84.055774</td>\n",
       "      <td>0.041384</td>\n",
       "      <td>2990.273268</td>\n",
       "      <td>0.749869</td>\n",
       "      <td>293.269922</td>\n",
       "      <td>0.075398</td>\n",
       "      <td>17.583561</td>\n",
       "      <td>0.321507</td>\n",
       "      <td>...</td>\n",
       "      <td>4045.053268</td>\n",
       "      <td>49.297050</td>\n",
       "      <td>65</td>\n",
       "      <td>1</td>\n",
       "      <td>0</td>\n",
       "      <td>0</td>\n",
       "      <td>0</td>\n",
       "      <td>0</td>\n",
       "      <td>0</td>\n",
       "      <td>1</td>\n",
       "    </tr>\n",
       "  </tbody>\n",
       "</table>\n",
       "<p>5 rows × 29 columns</p>\n",
       "</div>"
      ],
      "text/plain": [
       "  stroke  nascet_scale    calc_vol  calc_vol_prop     matx_vol  matx_vol_prop  \\\n",
       "0     no             0  235.252599       0.070443  3156.834690       0.759958   \n",
       "1     no             0   31.433595       0.016165  3032.860796       0.813306   \n",
       "2     no             0  113.404823       0.038081  3835.220140       0.782526   \n",
       "3    yes             0  780.823789       0.213432  3518.876937       0.761089   \n",
       "4     no             0   84.055774       0.041384  2990.273268       0.749869   \n",
       "\n",
       "     lrnc_vol  lrnc_vol_prop  max_calc_area  max_calc_area_prop  ...  \\\n",
       "0  224.871710       0.091085      12.350494            0.365768  ...   \n",
       "1  368.560663       0.133989       7.130660            0.211247  ...   \n",
       "2  321.158928       0.083037      16.286916            0.408811  ...   \n",
       "3  140.517346       0.032065      63.350869            0.576206  ...   \n",
       "4  293.269922       0.075398      17.583561            0.321507  ...   \n",
       "\n",
       "      wall_vol  max_stenosis_by_diameter  age  male  smoking_history  \\\n",
       "0  4192.170353                 10.544113   72     1                1   \n",
       "1  3917.039836                 18.646197   76     1                1   \n",
       "2  4935.327463                 19.735114   72     0                0   \n",
       "3  4909.503817                 20.288317   61     1                1   \n",
       "4  4045.053268                 49.297050   65     1                0   \n",
       "\n",
       "   atrial_fibrillation  coronary_artery_disease  diabetes_history  \\\n",
       "0                    0                        0                 0   \n",
       "1                    0                        0                 1   \n",
       "2                    0                        0                 0   \n",
       "3                    0                        0                 1   \n",
       "4                    0                        0                 0   \n",
       "\n",
       "   hypercholesterolemia_history  hypertension_history  \n",
       "0                             0                     1  \n",
       "1                             1                     1  \n",
       "2                             0                     0  \n",
       "3                             1                     1  \n",
       "4                             0                     1  \n",
       "\n",
       "[5 rows x 29 columns]"
      ]
     },
     "execution_count": 312,
     "metadata": {},
     "output_type": "execute_result"
    }
   ],
   "source": [
    "# looking at the first 5 rows \n",
    "df3.head()"
   ]
  },
  {
   "cell_type": "code",
   "execution_count": 313,
   "metadata": {},
   "outputs": [],
   "source": [
    "#Splitting the data set into predictors and a response variable \n",
    "feat = df3.drop(['stroke'],axis=1)\n",
    "targ = df3['stroke']"
   ]
  },
  {
   "cell_type": "code",
   "execution_count": 314,
   "metadata": {},
   "outputs": [
    {
     "data": {
      "text/plain": [
       "array([0, 0, 0, 1, 0, 0, 0, 0, 0, 0, 0, 0, 0, 1, 1, 0, 0, 1, 1, 0, 0, 0,\n",
       "       1, 1, 0, 1, 0, 1, 0, 0, 1, 1, 1, 1, 0, 0, 0, 1, 1, 1, 1, 1, 1, 0,\n",
       "       1, 1, 1, 0, 1, 0, 0, 1, 1, 0, 1, 0, 1, 1, 0, 0, 1, 0, 1, 1, 0, 1,\n",
       "       1, 1, 1, 0, 0, 1, 0, 1, 0, 1, 1, 1, 0, 0, 0, 1, 1, 0, 0, 0, 1, 1,\n",
       "       1, 0, 1, 1, 0, 0, 0, 1, 0, 0, 1, 0, 1, 0, 0, 1, 1, 1, 0, 1, 0, 0,\n",
       "       1, 1, 0, 0, 0, 1, 1, 1, 0, 1, 1, 1, 0, 0, 1, 1])"
      ]
     },
     "execution_count": 314,
     "metadata": {},
     "output_type": "execute_result"
    }
   ],
   "source": [
    "#map the response variable to numbers by encoding it \n",
    "targ=lb.fit_transform(targ)\n",
    "targ\n"
   ]
  },
  {
   "cell_type": "code",
   "execution_count": 315,
   "metadata": {},
   "outputs": [],
   "source": [
    "# SPlit the training and testing sets \n",
    "X_traint, X_testt, y_traint, y_testt = train_test_split(feat, targ, train_size=0.8, test_size=0.2, random_state=3)\n",
    "\n"
   ]
  },
  {
   "cell_type": "code",
   "execution_count": 316,
   "metadata": {},
   "outputs": [],
   "source": [
    "# Random Forest Model \n",
    "forest = RandomForestClassifier()\n",
    "forest = forest.fit(X_traint,y_traint)"
   ]
  },
  {
   "cell_type": "code",
   "execution_count": 317,
   "metadata": {},
   "outputs": [
    {
     "name": "stdout",
     "output_type": "stream",
     "text": [
      "ROC and AUC Score: 0.65\n",
      "ACCURACY Score: 0.65\n"
     ]
    }
   ],
   "source": [
    "#Predicting with the randomforest and printing out the scores \n",
    "pred_y1 = forest.predict(X_testt)\n",
    "print(\"ROC and AUC Score: {:3.2f}\".format(roc_auc_score(y_testt,pred_y1)))\n",
    "print(\"ACCURACY Score: {:3.2f}\".format(accuracy_score(y_testt,pred_y1)))"
   ]
  },
  {
   "cell_type": "code",
   "execution_count": 321,
   "metadata": {},
   "outputs": [
    {
     "name": "stdout",
     "output_type": "stream",
     "text": [
      "Confusion Matrix:\n",
      "[[8 4]\n",
      " [5 9]]\n",
      "\n",
      "sensitivity:0.62\n",
      "Specificity:0.50\n"
     ]
    }
   ],
   "source": [
    "#setting threshold\n",
    "mythreshold = 0.7\n",
    "#comparing prediction with threshold\n",
    "pred_y2 = (pred_y1 >= mythreshold).astype(int)\n",
    "#creating confusion matrix\n",
    "cm=confusion_matrix(y_testt,pred_y2)\n",
    "#Defining the positions for the true positives and negatives and the false positives and negatives\n",
    "TP = cm[0][0]\n",
    "TN = cm[0][1]\n",
    "FN = cm[1][0]\n",
    "FP = cm[0][1]\n",
    "\n",
    "#Printing the confusion matrix \n",
    "print(\"Confusion Matrix:\\n{}\".format(cm))\n",
    "\n",
    "#print a space below\n",
    "print()\n",
    "\n",
    "# computing and printing sensitivity and Specificity values \n",
    "sensitivity = TP/(TP+FN)\n",
    "print(\"sensitivity:{:3.2f}\".format(sensitivity))\n",
    "Specificity = TN/(TN+FP)\n",
    "print(\"Specificity:{:3.2f}\".format(Specificity))\n",
    "\n",
    "\n"
   ]
  },
  {
   "cell_type": "code",
   "execution_count": 322,
   "metadata": {},
   "outputs": [],
   "source": [
    "# USe the scalar function to nor\n",
    "sc = StandardScaler()\n",
    "X_traint = sc.fit_transform(X_traint)\n",
    "X_testt = sc.fit_transform(X_testt)"
   ]
  },
  {
   "cell_type": "code",
   "execution_count": 323,
   "metadata": {},
   "outputs": [],
   "source": [
    "# I am going to create a function fot the models I am going to use \n",
    "def modelx(X_traint,y_traint):\n",
    "    \n",
    "    #logistic regression\n",
    "    log = LogisticRegression(random_state=0)\n",
    "    log.fit(X_traint,y_traint)\n",
    "    \n",
    "    #Decision Tree \n",
    "    tree = DecisionTreeClassifier(random_state=0)\n",
    "    tree.fit(X_traint,y_traint)\n",
    "    \n",
    "    #MLP Classifier \n",
    "    mlp = MLPClassifier(random_state=0)\n",
    "    mlp.fit(X_traint,y_traint)\n",
    "    \n",
    "    # Support Vector Machine \n",
    "    svc = SVC(random_state=0)\n",
    "    svc.fit(X_traint,y_traint)\n",
    "    \n",
    "    #returning the models \n",
    "    return log, tree, mlp, svc"
   ]
  },
  {
   "cell_type": "code",
   "execution_count": 324,
   "metadata": {},
   "outputs": [
    {
     "name": "stderr",
     "output_type": "stream",
     "text": [
      "/usr/local/lib64/python3.6/site-packages/sklearn/neural_network/_multilayer_perceptron.py:617: ConvergenceWarning: Stochastic Optimizer: Maximum iterations (200) reached and the optimization hasn't converged yet.\n",
      "  % self.max_iter, ConvergenceWarning)\n"
     ]
    }
   ],
   "source": [
    "#creating a new variable to use in my for loop\n",
    "modelx = modelx(X_traint,y_traint)"
   ]
  },
  {
   "cell_type": "code",
   "execution_count": 325,
   "metadata": {},
   "outputs": [
    {
     "name": "stdout",
     "output_type": "stream",
     "text": [
      "modelx 0\n",
      "AUC Scores: 0.81\n",
      "modelx 1\n",
      "AUC Scores: 0.72\n",
      "modelx 2\n",
      "AUC Scores: 0.68\n",
      "modelx 3\n",
      "AUC Scores: 0.80\n"
     ]
    }
   ],
   "source": [
    "# Testing the accuracy of the models on unseen data\n",
    "for i in range(len(modelx)):\n",
    "    print('modelx', i)\n",
    "    scorex = roc_auc_score(y_testt, modelx[i].predict(X_testt))\n",
    "    print(\"AUC Scores: {:3.2f}\".format(scorex))"
   ]
  },
  {
   "cell_type": "markdown",
   "metadata": {},
   "source": [
    "Above we can see that the logistic regression and the support vector machine give the higest AUC values "
   ]
  },
  {
   "cell_type": "code",
   "execution_count": null,
   "metadata": {},
   "outputs": [],
   "source": []
  }
 ],
 "metadata": {
  "kernelspec": {
   "display_name": "Python 3",
   "language": "python",
   "name": "python3"
  },
  "language_info": {
   "codemirror_mode": {
    "name": "ipython",
    "version": 3
   },
   "file_extension": ".py",
   "mimetype": "text/x-python",
   "name": "python",
   "nbconvert_exporter": "python",
   "pygments_lexer": "ipython3",
   "version": "3.6.8"
  }
 },
 "nbformat": 4,
 "nbformat_minor": 4
}
