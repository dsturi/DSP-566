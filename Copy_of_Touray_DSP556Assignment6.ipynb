{
  "cells": [
    {
      "cell_type": "markdown",
      "source": [
        "# DSP 556 Assignment 6: Neural Networks\n",
        "\n",
        "### Sheikh-sedat Touray\n",
        "\n",
        "#### Spring 2023"
      ],
      "metadata": {
        "id": "o_riatQAz4Ko"
      }
    },
    {
      "cell_type": "code",
      "execution_count": 54,
      "metadata": {
        "colab": {
          "base_uri": "https://localhost:8080/",
          "height": 0
        },
        "id": "gl343PNwqqUb",
        "outputId": "75188bd6-c4ce-4373-af68-b5a4cac9c12b"
      },
      "outputs": [
        {
          "output_type": "stream",
          "name": "stdout",
          "text": [
            "Requirement already satisfied: tensorflow in /usr/local/lib/python3.10/dist-packages (2.14.0)\n",
            "Requirement already satisfied: absl-py>=1.0.0 in /usr/local/lib/python3.10/dist-packages (from tensorflow) (1.4.0)\n",
            "Requirement already satisfied: astunparse>=1.6.0 in /usr/local/lib/python3.10/dist-packages (from tensorflow) (1.6.3)\n",
            "Requirement already satisfied: flatbuffers>=23.5.26 in /usr/local/lib/python3.10/dist-packages (from tensorflow) (23.5.26)\n",
            "Requirement already satisfied: gast!=0.5.0,!=0.5.1,!=0.5.2,>=0.2.1 in /usr/local/lib/python3.10/dist-packages (from tensorflow) (0.5.4)\n",
            "Requirement already satisfied: google-pasta>=0.1.1 in /usr/local/lib/python3.10/dist-packages (from tensorflow) (0.2.0)\n",
            "Requirement already satisfied: h5py>=2.9.0 in /usr/local/lib/python3.10/dist-packages (from tensorflow) (3.9.0)\n",
            "Requirement already satisfied: libclang>=13.0.0 in /usr/local/lib/python3.10/dist-packages (from tensorflow) (16.0.6)\n",
            "Requirement already satisfied: ml-dtypes==0.2.0 in /usr/local/lib/python3.10/dist-packages (from tensorflow) (0.2.0)\n",
            "Requirement already satisfied: numpy>=1.23.5 in /usr/local/lib/python3.10/dist-packages (from tensorflow) (1.23.5)\n",
            "Requirement already satisfied: opt-einsum>=2.3.2 in /usr/local/lib/python3.10/dist-packages (from tensorflow) (3.3.0)\n",
            "Requirement already satisfied: packaging in /usr/local/lib/python3.10/dist-packages (from tensorflow) (23.2)\n",
            "Requirement already satisfied: protobuf!=4.21.0,!=4.21.1,!=4.21.2,!=4.21.3,!=4.21.4,!=4.21.5,<5.0.0dev,>=3.20.3 in /usr/local/lib/python3.10/dist-packages (from tensorflow) (3.20.3)\n",
            "Requirement already satisfied: setuptools in /usr/local/lib/python3.10/dist-packages (from tensorflow) (67.7.2)\n",
            "Requirement already satisfied: six>=1.12.0 in /usr/local/lib/python3.10/dist-packages (from tensorflow) (1.16.0)\n",
            "Requirement already satisfied: termcolor>=1.1.0 in /usr/local/lib/python3.10/dist-packages (from tensorflow) (2.3.0)\n",
            "Requirement already satisfied: typing-extensions>=3.6.6 in /usr/local/lib/python3.10/dist-packages (from tensorflow) (4.5.0)\n",
            "Requirement already satisfied: wrapt<1.15,>=1.11.0 in /usr/local/lib/python3.10/dist-packages (from tensorflow) (1.14.1)\n",
            "Requirement already satisfied: tensorflow-io-gcs-filesystem>=0.23.1 in /usr/local/lib/python3.10/dist-packages (from tensorflow) (0.34.0)\n",
            "Requirement already satisfied: grpcio<2.0,>=1.24.3 in /usr/local/lib/python3.10/dist-packages (from tensorflow) (1.59.3)\n",
            "Requirement already satisfied: tensorboard<2.15,>=2.14 in /usr/local/lib/python3.10/dist-packages (from tensorflow) (2.14.1)\n",
            "Requirement already satisfied: tensorflow-estimator<2.15,>=2.14.0 in /usr/local/lib/python3.10/dist-packages (from tensorflow) (2.14.0)\n",
            "Requirement already satisfied: keras<2.15,>=2.14.0 in /usr/local/lib/python3.10/dist-packages (from tensorflow) (2.14.0)\n",
            "Requirement already satisfied: wheel<1.0,>=0.23.0 in /usr/local/lib/python3.10/dist-packages (from astunparse>=1.6.0->tensorflow) (0.42.0)\n",
            "Requirement already satisfied: google-auth<3,>=1.6.3 in /usr/local/lib/python3.10/dist-packages (from tensorboard<2.15,>=2.14->tensorflow) (2.17.3)\n",
            "Requirement already satisfied: google-auth-oauthlib<1.1,>=0.5 in /usr/local/lib/python3.10/dist-packages (from tensorboard<2.15,>=2.14->tensorflow) (1.0.0)\n",
            "Requirement already satisfied: markdown>=2.6.8 in /usr/local/lib/python3.10/dist-packages (from tensorboard<2.15,>=2.14->tensorflow) (3.5.1)\n",
            "Requirement already satisfied: requests<3,>=2.21.0 in /usr/local/lib/python3.10/dist-packages (from tensorboard<2.15,>=2.14->tensorflow) (2.31.0)\n",
            "Requirement already satisfied: tensorboard-data-server<0.8.0,>=0.7.0 in /usr/local/lib/python3.10/dist-packages (from tensorboard<2.15,>=2.14->tensorflow) (0.7.2)\n",
            "Requirement already satisfied: werkzeug>=1.0.1 in /usr/local/lib/python3.10/dist-packages (from tensorboard<2.15,>=2.14->tensorflow) (3.0.1)\n",
            "Requirement already satisfied: cachetools<6.0,>=2.0.0 in /usr/local/lib/python3.10/dist-packages (from google-auth<3,>=1.6.3->tensorboard<2.15,>=2.14->tensorflow) (5.3.2)\n",
            "Requirement already satisfied: pyasn1-modules>=0.2.1 in /usr/local/lib/python3.10/dist-packages (from google-auth<3,>=1.6.3->tensorboard<2.15,>=2.14->tensorflow) (0.3.0)\n",
            "Requirement already satisfied: rsa<5,>=3.1.4 in /usr/local/lib/python3.10/dist-packages (from google-auth<3,>=1.6.3->tensorboard<2.15,>=2.14->tensorflow) (4.9)\n",
            "Requirement already satisfied: requests-oauthlib>=0.7.0 in /usr/local/lib/python3.10/dist-packages (from google-auth-oauthlib<1.1,>=0.5->tensorboard<2.15,>=2.14->tensorflow) (1.3.1)\n",
            "Requirement already satisfied: charset-normalizer<4,>=2 in /usr/local/lib/python3.10/dist-packages (from requests<3,>=2.21.0->tensorboard<2.15,>=2.14->tensorflow) (3.3.2)\n",
            "Requirement already satisfied: idna<4,>=2.5 in /usr/local/lib/python3.10/dist-packages (from requests<3,>=2.21.0->tensorboard<2.15,>=2.14->tensorflow) (3.6)\n",
            "Requirement already satisfied: urllib3<3,>=1.21.1 in /usr/local/lib/python3.10/dist-packages (from requests<3,>=2.21.0->tensorboard<2.15,>=2.14->tensorflow) (2.0.7)\n",
            "Requirement already satisfied: certifi>=2017.4.17 in /usr/local/lib/python3.10/dist-packages (from requests<3,>=2.21.0->tensorboard<2.15,>=2.14->tensorflow) (2023.11.17)\n",
            "Requirement already satisfied: MarkupSafe>=2.1.1 in /usr/local/lib/python3.10/dist-packages (from werkzeug>=1.0.1->tensorboard<2.15,>=2.14->tensorflow) (2.1.3)\n",
            "Requirement already satisfied: pyasn1<0.6.0,>=0.4.6 in /usr/local/lib/python3.10/dist-packages (from pyasn1-modules>=0.2.1->google-auth<3,>=1.6.3->tensorboard<2.15,>=2.14->tensorflow) (0.5.1)\n",
            "Requirement already satisfied: oauthlib>=3.0.0 in /usr/local/lib/python3.10/dist-packages (from requests-oauthlib>=0.7.0->google-auth-oauthlib<1.1,>=0.5->tensorboard<2.15,>=2.14->tensorflow) (3.2.2)\n"
          ]
        }
      ],
      "source": [
        "# Install tensorflow\n",
        "!pip install tensorflow\n",
        "\n"
      ]
    },
    {
      "cell_type": "code",
      "execution_count": 55,
      "metadata": {
        "id": "CJcwGHEqJc_4"
      },
      "outputs": [],
      "source": [
        "#Importing librabries\n",
        "from sklearn.neural_network import MLPClassifier\n",
        "from sklearn.model_selection import train_test_split\n",
        "from sklearn.metrics import accuracy_score\n",
        "import numpy as np\n",
        "#Importing the tensor flow libraries\n",
        "\n",
        "import tensorflow as tf\n",
        "from sklearn.preprocessing import StandardScaler\n",
        "from tensorflow.keras import Sequential\n",
        "from tensorflow.keras.layers import Dense\n",
        "from tensorflow.keras import layers, models\n",
        "from tensorflow.keras.datasets import mnist\n",
        "from tensorflow.keras.utils import to_categorical\n",
        "import matplotlib.pyplot as plt\n",
        "import numpy as np\n",
        "import pandas as pd\n",
        "\n",
        "\n"
      ]
    },
    {
      "cell_type": "code",
      "execution_count": 51,
      "metadata": {
        "colab": {
          "base_uri": "https://localhost:8080/",
          "height": 0
        },
        "id": "mCB2fjQQrP3z",
        "outputId": "c6cb86ad-39e6-49a0-a1a6-32c18b788344"
      },
      "outputs": [
        {
          "output_type": "stream",
          "name": "stderr",
          "text": [
            "/usr/local/lib/python3.10/dist-packages/sklearn/datasets/_openml.py:968: FutureWarning: The default value of `parser` will change from `'liac-arff'` to `'auto'` in 1.4. You can set `parser='auto'` to silence this warning. Therefore, an `ImportError` will be raised from 1.4 if the dataset is dense and pandas is not installed. Note that the pandas parser may return different data types. See the Notes Section in fetch_openml's API doc for details.\n",
            "  warn(\n"
          ]
        },
        {
          "output_type": "stream",
          "name": "stdout",
          "text": [
            "(70000, 784) (70000,)\n"
          ]
        }
      ],
      "source": [
        "# Import the dataset from sci-kit learn\n",
        "from sklearn.datasets import fetch_openml\n",
        "mnist = fetch_openml('mnist_784')\n",
        "X = mnist.data.astype('float32') / 255.0\n",
        "y = mnist.target.astype('int')\n",
        "print(X.shape, y.shape)"
      ]
    },
    {
      "cell_type": "code",
      "execution_count": null,
      "metadata": {
        "id": "7m4yX3Rwsgtd"
      },
      "outputs": [],
      "source": [
        "# Split the dataset into training and testing sets\n",
        "X_train, X_test, y_train, y_test = train_test_split(X, y, test_size=0.2, random_state=42)"
      ]
    },
    {
      "cell_type": "code",
      "execution_count": null,
      "metadata": {
        "id": "fw5FOYjosn0z"
      },
      "outputs": [],
      "source": [
        "# Define a function to create and train an MLPClassifier with variable hidden layers\n",
        "def train_mlp(hidden_layer_sizes):\n",
        "    clf = MLPClassifier(hidden_layer_sizes=hidden_layer_sizes, max_iter=1000, random_state=42)\n",
        "    clf.fit(X_train, y_train)\n",
        "    y_pred = clf.predict(X_test)\n",
        "    accuracy = accuracy_score(y_test, y_pred)\n",
        "    return accuracy"
      ]
    },
    {
      "cell_type": "code",
      "execution_count": null,
      "metadata": {
        "colab": {
          "background_save": true
        },
        "id": "xZDM09jjwgKl",
        "outputId": "c8e8f308-737c-42c9-dffe-8fd013e7e145"
      },
      "outputs": [
        {
          "name": "stdout",
          "output_type": "stream",
          "text": [
            "Hidden Layers of MLP: (10,), Accuracy of MLP: 0.9307142857142857\n",
            "Hidden Layers of MLP: (10, 5), Accuracy of MLP: 0.9216428571428571\n"
          ]
        }
      ],
      "source": [
        "# Experiment with different numbers of hidden layers\n",
        "hidden_layers_options = [\n",
        "    (10,),                  # Single hidden layer with 10 neurons\n",
        "    (10, 5),               # Two hidden layers with 10 and 5 neurons\n",
        "]\n",
        "\n",
        "for hidden_layers in hidden_layers_options:\n",
        "    accuracy = train_mlp(hidden_layers)\n",
        "    print(f\"Hidden Layers of MLP: {hidden_layers}, Accuracy of MLP: {accuracy}\")"
      ]
    },
    {
      "cell_type": "markdown",
      "metadata": {
        "id": "29n5bpsa0VpF"
      },
      "source": [
        "As anticipated since this is a huge data and large number of observation it took about 2 mins for the first layer to complete training and the second layer with more neurons even took longer, however, it did not improve prediction accuracy. So in the next step I am going to choose more hidden layers and more neurons. Although it is going to take a while considering the size of the data. I just think it would be more intersting to see the whole picture."
      ]
    },
    {
      "cell_type": "code",
      "execution_count": null,
      "metadata": {
        "colab": {
          "background_save": true
        },
        "id": "0XjU2EHVstu-",
        "outputId": "d6877a79-fd8a-4775-fb88-ed8dc618a113"
      },
      "outputs": [
        {
          "name": "stdout",
          "output_type": "stream",
          "text": [
            "Hidden Layers of MLP: (50,), Accuracy of MLP: 0.9700714285714286\n",
            "Hidden Layers of MLP: (50, 30), Accuracy of MLP: 0.9691428571428572\n",
            "Hidden Layers of MLP: (50, 30, 20), Accuracy of MLP: 0.9691428571428572\n"
          ]
        }
      ],
      "source": [
        "# Experiment with different numbers of hidden layers\n",
        "hidden_layers_options = [\n",
        "    (50,),                  # Single hidden layer with 50 neurons\n",
        "    (50, 30),               # Two hidden layers with 50 and 30 neurons\n",
        "    (50, 30, 20),           # Three hidden layers with 50, 30, and 20 neurons\n",
        "]\n",
        "\n",
        "for hidden_layers in hidden_layers_options:\n",
        "    accuracy = train_mlp(hidden_layers)\n",
        "    print(f\"Hidden Layers of MLP: {hidden_layers}, Accuracy of MLP: {accuracy}\")"
      ]
    },
    {
      "cell_type": "markdown",
      "metadata": {
        "id": "RsYD6ojdvTrt"
      },
      "source": [
        "As anticipated the large number of neurons that I chose for the single layer made it take a relatively long time to finish training. It even took longer with the second hidden layer with two neurons of size 50 and 30 neurons and the third hidden layer took the longest to train with with 3 neurons. However every time I increased the neurons and the hidden layers, the accuracy also increases. It took about a total of 10 mins"
      ]
    },
    {
      "cell_type": "markdown",
      "metadata": {
        "id": "sK0TSC387MNt"
      },
      "source": [
        "# Using Tensor Flow to build a MLP Neural Network"
      ]
    },
    {
      "cell_type": "code",
      "execution_count": 3,
      "metadata": {
        "colab": {
          "base_uri": "https://localhost:8080/",
          "height": 0
        },
        "id": "WnfSf0232Zdq",
        "outputId": "8fe7e305-98d1-4fa3-a94c-fcce6a4dce49"
      },
      "outputs": [
        {
          "output_type": "stream",
          "name": "stdout",
          "text": [
            "Downloading data from https://storage.googleapis.com/tensorflow/tf-keras-datasets/mnist.npz\n",
            "11490434/11490434 [==============================] - 0s 0us/step\n",
            "Model: \"sequential\"\n",
            "_________________________________________________________________\n",
            " Layer (type)                Output Shape              Param #   \n",
            "=================================================================\n",
            " flatten (Flatten)           (None, 784)               0         \n",
            "                                                                 \n",
            " dense (Dense)               (None, 128)               100480    \n",
            "                                                                 \n",
            " dense_1 (Dense)             (None, 64)                8256      \n",
            "                                                                 \n",
            " dense_2 (Dense)             (None, 10)                650       \n",
            "                                                                 \n",
            "=================================================================\n",
            "Total params: 109386 (427.29 KB)\n",
            "Trainable params: 109386 (427.29 KB)\n",
            "Non-trainable params: 0 (0.00 Byte)\n",
            "_________________________________________________________________\n"
          ]
        }
      ],
      "source": [
        "# Load and preprocess the MNIST dataset\n",
        "(train_images, train_labels), (test_images, test_labels) = mnist.load_data()\n",
        "\n",
        "# Normalize pixel values to be between 0 and 1\n",
        "train_images, test_images = train_images / 255.0, test_images / 255.0\n",
        "\n",
        "# Build the model\n",
        "model1 = models.Sequential([\n",
        "    layers.Flatten(input_shape=(28, 28)),    # Flatten the input images\n",
        "    layers.Dense(128, activation='relu'),    # Hidden layer 1 with 128 units and ReLU activation\n",
        "    layers.Dense(64, activation='relu'),     # Hidden layer 2 with 64 units and ReLU activation\n",
        "    layers.Dense(10, activation='softmax')   # Output layer with 10 units (for 10 digits) and softmax activation\n",
        "])\n",
        "\n",
        "# Compile the model\n",
        "model1.compile(optimizer='adam',\n",
        "              loss='sparse_categorical_crossentropy',\n",
        "              metrics=['accuracy'])\n",
        "\n",
        "# Display model summary\n",
        "model1.summary()\n"
      ]
    },
    {
      "cell_type": "code",
      "execution_count": 4,
      "metadata": {
        "colab": {
          "base_uri": "https://localhost:8080/",
          "height": 0
        },
        "id": "e5THfwJo2oFc",
        "outputId": "47091643-5118-4040-eae7-7f3d5edc2a91"
      },
      "outputs": [
        {
          "output_type": "stream",
          "name": "stdout",
          "text": [
            "Epoch 1/5\n",
            "1875/1875 [==============================] - 10s 5ms/step - loss: 0.2368 - accuracy: 0.9298\n",
            "Epoch 2/5\n",
            "1875/1875 [==============================] - 8s 4ms/step - loss: 0.0996 - accuracy: 0.9709\n",
            "Epoch 3/5\n",
            "1875/1875 [==============================] - 9s 5ms/step - loss: 0.0704 - accuracy: 0.9778\n",
            "Epoch 4/5\n",
            "1875/1875 [==============================] - 10s 5ms/step - loss: 0.0533 - accuracy: 0.9831\n",
            "Epoch 5/5\n",
            "1875/1875 [==============================] - 7s 4ms/step - loss: 0.0428 - accuracy: 0.9861\n",
            "\n",
            "\n",
            "313/313 [==============================] - 1s 2ms/step - loss: 0.0809 - accuracy: 0.9740\n",
            "\n",
            "\n",
            "Test accuracy of Tensor Flow MLP: 0.9739999771118164\n"
          ]
        }
      ],
      "source": [
        "# Train the model\n",
        "model1.fit(train_images, train_labels, epochs=5)\n",
        "print(\"\\n\")\n",
        "# Evaluate the model\n",
        "test_loss1, test_acc1 = model1.evaluate(test_images, test_labels)\n",
        "print(\"\\n\")\n",
        "print(f\"Test accuracy of Tensor Flow MLP: {test_acc1}\")\n",
        "\n",
        "\n",
        "\n"
      ]
    },
    {
      "cell_type": "markdown",
      "metadata": {
        "id": "VSuS9hSm7xee"
      },
      "source": [
        "After 8 secs the 5th epoch gave the lowest loss and highest accuracy and after performing a prediction you can see that the test accuracy is slightly less than that of the training accuracies. So this is a sign of a good neralizing model.\n",
        "\n",
        "\n",
        "\n"
      ]
    },
    {
      "cell_type": "code",
      "execution_count": 5,
      "metadata": {
        "colab": {
          "base_uri": "https://localhost:8080/",
          "height": 586
        },
        "id": "xWjTPXeJoxNn",
        "outputId": "198a614b-9004-4b3d-b9b2-ac7df743311f"
      },
      "outputs": [
        {
          "output_type": "stream",
          "name": "stdout",
          "text": [
            "Epoch 1/5\n",
            "1875/1875 [==============================] - 8s 4ms/step - loss: 0.0354 - accuracy: 0.9882 - val_loss: 0.0847 - val_accuracy: 0.9761\n",
            "Epoch 2/5\n",
            "1875/1875 [==============================] - 9s 5ms/step - loss: 0.0274 - accuracy: 0.9906 - val_loss: 0.0729 - val_accuracy: 0.9787\n",
            "Epoch 3/5\n",
            "1875/1875 [==============================] - 10s 5ms/step - loss: 0.0242 - accuracy: 0.9916 - val_loss: 0.0795 - val_accuracy: 0.9787\n",
            "Epoch 4/5\n",
            "1875/1875 [==============================] - 8s 4ms/step - loss: 0.0218 - accuracy: 0.9927 - val_loss: 0.0807 - val_accuracy: 0.9793\n",
            "Epoch 5/5\n",
            "1875/1875 [==============================] - 9s 5ms/step - loss: 0.0170 - accuracy: 0.9943 - val_loss: 0.0981 - val_accuracy: 0.9770\n"
          ]
        },
        {
          "output_type": "display_data",
          "data": {
            "text/plain": [
              "<Figure size 1200x400 with 2 Axes>"
            ],
            "image/png": "[encoded data removed]"
          },
          "metadata": {}
        }
      ],
      "source": [
        "# Train the model and record history\n",
        "hist1 = model1.fit(train_images, train_labels, epochs=5, validation_data=(test_images, test_labels))\n",
        "\n",
        "# Plot training history\n",
        "plt.figure(figsize=(12, 4))\n",
        "\n",
        "# Plot training & validation accuracy values\n",
        "plt.subplot(1, 2, 1)\n",
        "plt.plot(hist1.history['accuracy'])\n",
        "plt.plot(hist1.history['val_accuracy'])\n",
        "plt.title('Model accuracy of MLP')\n",
        "plt.xlabel('Epoch')\n",
        "plt.ylabel('Accuracy')\n",
        "plt.legend(['Train', 'Test'], loc='upper left')\n",
        "\n",
        "# Plot training & validation loss values\n",
        "plt.subplot(1, 2, 2)\n",
        "plt.plot(hist1.history['loss'])\n",
        "plt.plot(hist1.history['val_loss'])\n",
        "plt.title('Model loss of MLP')\n",
        "plt.xlabel('Epoch')\n",
        "plt.ylabel('Loss')\n",
        "plt.legend(['Train', 'Test'], loc='upper left')\n",
        "\n",
        "plt.tight_layout()\n",
        "plt.show()"
      ]
    },
    {
      "cell_type": "markdown",
      "metadata": {
        "id": "o9HxI1ay9VBI"
      },
      "source": [
        "We can also see from the plots of model accuracy and loss that the training accuracy is higher than the testing accuracy and the training loss is lower than the test loss and this is expected becuase unseen data is being passed to the model and it can be exusable to lose some of the interprations of features or noise that the model had not been trained on."
      ]
    },
    {
      "cell_type": "markdown",
      "metadata": {
        "id": "bsWMxVbZ-evJ"
      },
      "source": [
        "# Convolutional Model"
      ]
    },
    {
      "cell_type": "code",
      "execution_count": 79,
      "metadata": {
        "id": "1yhHLrhwB2Et"
      },
      "outputs": [],
      "source": [
        "# Load and preprocess the MNIST dataset\n",
        "(train_imagec, train_labelc), (test_imagec, test_labelc) = mnist.load_data()\n",
        "\n",
        "# Normalize pixel values to be between 0 and 1\n",
        "train_imagec, test_imagec = train_imagec / 255.0, test_imagec / 255.0\n",
        "\n",
        "# Flatten the images and one-hot encode the labels\n",
        "train_imagec = train_imagec.reshape((60000, 28, 28, 1))\n",
        "test_imagec = test_imagec.reshape((10000, 28, 28, 1))\n",
        "train_labelc = to_categorical(train_labelc)\n",
        "test_labelc = to_categorical(test_labelc)\n",
        "\n",
        "# Define the model\n",
        "model = models.Sequential()\n",
        "model.add(layers.Conv2D(32, (3, 3), activation='relu', input_shape=(28, 28, 1)))\n",
        "model.add(layers.MaxPooling2D((2, 2)))\n",
        "model.add(layers.Conv2D(64, (3, 3), activation='relu'))\n",
        "model.add(layers.MaxPooling2D((2, 2)))\n",
        "model.add(layers.Conv2D(64, (3, 3), activation='relu'))\n",
        "model.add(layers.Flatten())\n",
        "model.add(layers.Dense(64, activation='relu'))\n",
        "model.add(layers.Dense(10, activation='softmax'))\n",
        "\n",
        "\n"
      ]
    },
    {
      "cell_type": "code",
      "execution_count": null,
      "metadata": {
        "colab": {
          "base_uri": "https://localhost:8080/"
        },
        "id": "rLyVrh-Zp2nV",
        "outputId": "09d342fe-9801-44d2-8143-dfdea004ab6b"
      },
      "outputs": [
        {
          "name": "stdout",
          "output_type": "stream",
          "text": [
            "Epoch 1/5\n",
            "1875/1875 [==============================] - 75s 39ms/step - loss: 0.1397 - accuracy: 0.9566 - val_loss: 0.0427 - val_accuracy: 0.9863\n",
            "Epoch 2/5\n",
            "1875/1875 [==============================] - 80s 43ms/step - loss: 0.0450 - accuracy: 0.9858 - val_loss: 0.0332 - val_accuracy: 0.9892\n",
            "Epoch 3/5\n",
            "1875/1875 [==============================] - 62s 33ms/step - loss: 0.0327 - accuracy: 0.9898 - val_loss: 0.0327 - val_accuracy: 0.9893\n",
            "Epoch 4/5\n",
            "1875/1875 [==============================] - 61s 33ms/step - loss: 0.0239 - accuracy: 0.9924 - val_loss: 0.0373 - val_accuracy: 0.9879\n",
            "Epoch 5/5\n",
            "1875/1875 [==============================] - 61s 32ms/step - loss: 0.0200 - accuracy: 0.9938 - val_loss: 0.0347 - val_accuracy: 0.9896\n",
            "313/313 [==============================] - 3s 9ms/step - loss: 0.0347 - accuracy: 0.9896\n",
            "Test accuracy of Convolutional Model: 0.9896000027656555\n"
          ]
        }
      ],
      "source": [
        "# Compile the model\n",
        "model.compile(optimizer='adam',\n",
        "              loss='categorical_crossentropy',\n",
        "              metrics=['accuracy'])\n",
        "\n",
        "# Train the model\n",
        "hist2 = model.fit(train_imagec, train_labelc, epochs=5, validation_data=(test_imagec, test_labelc))\n",
        "\n",
        "# Evaluate the model on the test set\n",
        "test_loss2, test_acc2 = model.evaluate(test_imagec, test_labelc)\n",
        "print(f'Test accuracy of Convolutional Model: {test_acc2}')\n"
      ]
    },
    {
      "cell_type": "markdown",
      "metadata": {
        "id": "GYg5-gMOBH88"
      },
      "source": [
        "In the convolutional model the validation accuracy is less that the training accuracy this is a good insight because at least the prelimninary findings show that the model is not doing any lucky guesses. This is expected as well as the validation loss being higher than that of the training. And the timings of the range of epochs is between 32 milli second per step to 43 milli second per step."
      ]
    },
    {
      "cell_type": "code",
      "execution_count": null,
      "metadata": {
        "colab": {
          "base_uri": "https://localhost:8080/",
          "height": 452
        },
        "id": "WF5ilwHIp_Li",
        "outputId": "ac16be2e-28a3-4ccf-efab-89940f6aecb8"
      },
      "outputs": [
        {
          "data": {
            "image/png": "[encoded data removed]",
            "text/plain": [
              "<Figure size 640x480 with 1 Axes>"
            ]
          },
          "metadata": {},
          "output_type": "display_data"
        }
      ],
      "source": [
        "# Plot training history\n",
        "plt.plot(hist2.history['accuracy'], label='Training Accuracy')\n",
        "plt.plot(hist2.history['val_accuracy'], label='Validation Accuracy')\n",
        "plt.title('Training and Validation accuracies of Convolutional Model')\n",
        "\n",
        "plt.xlabel('Epoch')\n",
        "plt.ylabel('Accuracy')\n",
        "plt.legend()\n",
        "plt.show()"
      ]
    },
    {
      "cell_type": "markdown",
      "metadata": {
        "id": "IuUxUNY1Bmuj"
      },
      "source": [
        "From the plots above also we can see that the validation accuracy plot does not go over the training plot. It has to be this way for the model to be considered performing and generalizing well.  "
      ]
    },
    {
      "cell_type": "markdown",
      "metadata": {
        "id": "Q6ZbNoLidF4P"
      },
      "source": []
    },
    {
      "cell_type": "markdown",
      "metadata": {
        "id": "jULBGOTxZ2iT"
      },
      "source": [
        "# AutoEncoders"
      ]
    },
    {
      "cell_type": "code",
      "execution_count": 80,
      "metadata": {
        "id": "YVPP6WFhc33N"
      },
      "outputs": [],
      "source": [
        "# Define the autoencoder model\n",
        "def build_autoencoder_1():\n",
        "    # Autoencoder with dense layers\n",
        "    input_img = layers.Input(shape=(28, 28, 1))\n",
        "    flat_img = layers.Flatten()(input_img)\n",
        "\n",
        "    encoded = layers.Dense(128, activation='relu')(flat_img)\n",
        "    encoded = layers.Dense(64, activation='relu')(encoded)\n",
        "    encoded = layers.Dense(32, activation='relu')(encoded)\n",
        "\n",
        "    decoded = layers.Dense(64, activation='relu')(encoded)\n",
        "    decoded = layers.Dense(128, activation='relu')(decoded)\n",
        "    decoded = layers.Dense(784, activation='sigmoid')(decoded)\n",
        "    decoded_img = layers.Reshape((28, 28, 1))(decoded)\n",
        "\n",
        "    autoencoder = models.Model(input_img, decoded_img)\n",
        "    autoencoder.compile(optimizer='adam', loss='binary_crossentropy')\n",
        "\n",
        "    return autoencoder\n",
        "\n",
        "def build_autoencoder_2():\n",
        "    # Autoencoder with convolutional layers\n",
        "    input_img = layers.Input(shape=(28, 28, 1))\n",
        "\n",
        "    encoded = layers.Conv2D(16, (3, 3), activation='relu', padding='same')(input_img)\n",
        "    encoded = layers.MaxPooling2D((2, 2), padding='same')(encoded)\n",
        "    encoded = layers.Conv2D(8, (3, 3), activation='relu', padding='same')(encoded)\n",
        "    encoded = layers.MaxPooling2D((2, 2), padding='same')(encoded)\n",
        "    encoded = layers.Conv2D(8, (3, 3), activation='relu', padding='same')(encoded)\n",
        "    encoded = layers.MaxPooling2D((2, 2), padding='same')(encoded)\n",
        "\n",
        "    decoded = layers.Conv2D(8, (3, 3), activation='relu', padding='same')(encoded)\n",
        "    decoded = layers.UpSampling2D((2, 2))(decoded)\n",
        "    decoded = layers.Conv2D(8, (3, 3), activation='relu', padding='same')(decoded)\n",
        "    decoded = layers.UpSampling2D((2, 2))(decoded)\n",
        "    decoded = layers.Conv2D(16, (3, 3), activation='relu')(decoded)\n",
        "    decoded = layers.UpSampling2D((2, 2))(decoded)\n",
        "    decoded = layers.Conv2D(1, (3, 3), activation='sigmoid', padding='same')(decoded)\n",
        "\n",
        "    autoencoder = models.Model(input_img, decoded)\n",
        "    autoencoder.compile(optimizer='adam', loss='binary_crossentropy')\n",
        "\n",
        "    return autoencoder\n",
        "\n"
      ]
    },
    {
      "cell_type": "markdown",
      "source": [
        "In the code above I began to build my two autoencoders and defining the models as main functions and having each of their  layers and parameters as their rspective local functions. Then I returned autoencoder so it does not print anything."
      ],
      "metadata": {
        "id": "5ADAS6OhCR8P"
      }
    },
    {
      "cell_type": "code",
      "source": [
        "# Load MNIST dataset\n",
        "(x_train, y_train), (x_test, y_test) = mnist.load_data()\n",
        "\n",
        "# Filter data for digit 3 and some fraction of every other digit\n",
        "digit_to_keep = 3\n",
        "fraction_to_keep = 0.2\n",
        "\n",
        "indices_digit_3 = np.where(y_train == digit_to_keep)[0]\n",
        "indices_other_digits = np.where(y_train != digit_to_keep)[0]\n",
        "\n",
        "# Randomly select a fraction of indices for other digits\n",
        "selected_indices_other_digits = np.random.choice(\n",
        "    indices_other_digits,\n",
        "    size=int(fraction_to_keep * len(indices_other_digits)),\n",
        "    replace=False\n",
        ")\n",
        "\n",
        "# Concatenate indices for digit 3 and the selected fraction of other digits\n",
        "selected_indices = np.concatenate([indices_digit_3, selected_indices_other_digits])\n",
        "\n",
        "# Separate the data into training and validation sets\n",
        "x_train_filtered = x_train[selected_indices]\n",
        "y_train_filtered = y_train[selected_indices]\n",
        "\n",
        "# Normalize pixel values to be between 0 and 1\n",
        "x_train_filtered = x_train_filtered / 255.0\n",
        "\n",
        "# Display the shapes of the filtered datasets\n",
        "print(\"Filtered Training Data Shape:\", x_train_filtered.shape)\n",
        "print(\"Filtered Training Labels Shape:\", y_train_filtered.shape)"
      ],
      "metadata": {
        "colab": {
          "base_uri": "https://localhost:8080/",
          "height": 0
        },
        "id": "zZAEywbH32Q4",
        "outputId": "0f09dba6-d7b2-431b-a68b-b27a15b339c6"
      },
      "execution_count": 81,
      "outputs": [
        {
          "output_type": "stream",
          "name": "stdout",
          "text": [
            "Filtered Training Data Shape: (16904, 28, 28)\n",
            "Filtered Training Labels Shape: (16904,)\n"
          ]
        }
      ]
    },
    {
      "cell_type": "markdown",
      "source": [
        "In this problem after filtering the data for the number 3 digits and fraction every other digits. I joined them to form one single array and I printed the shapes of the of the data and the labels to make sure that I will not run into any issues in my analysis. For example empty list, different dimensions etc."
      ],
      "metadata": {
        "id": "64W9n1ttDlb2"
      }
    },
    {
      "cell_type": "code",
      "source": [
        "from sklearn.model_selection import KFold\n",
        "\n",
        "# Implement cross-validation on the remaining training data\n",
        "kf = KFold(n_splits=5, shuffle=True, random_state=42)\n",
        "\n",
        "for fold, (train_index, val_index) in enumerate(kf.split(x_train_filtered)):\n",
        "    # Build the autoencoder model\n",
        "    autoencoder_1 = build_autoencoder_1()\n",
        "    autoencoder_2 = build_autoencoder_2()\n",
        "\n",
        "    # Split the data into training and validation sets for this fold\n",
        "    train_data, val_data = x_train_filtered[train_index], x_train_filtered[val_index]"
      ],
      "metadata": {
        "id": "rJFaspNJ6T_t"
      },
      "execution_count": 82,
      "outputs": []
    },
    {
      "cell_type": "markdown",
      "source": [
        "Here I did a for loop to implement a 5 fold cross validation which is to implented on unseen data to improve the feature learning of the data."
      ],
      "metadata": {
        "id": "Hmj5hWeUEljq"
      }
    },
    {
      "cell_type": "code",
      "source": [
        "# Build and train the first autoencoder\n",
        "autoencoder_1 = build_autoencoder_1()\n",
        "autoencoder_1.fit(train_data, train_data,\n",
        "                  epochs=10,\n",
        "                  batch_size=128,\n",
        "                  shuffle=True,\n",
        "                  validation_data=(val_data, val_data))\n",
        "\n",
        "# Build and train the second autoencoder\n",
        "autoencoder_2 = build_autoencoder_2()\n",
        "autoencoder_2.fit(train_data, train_data,\n",
        "                  epochs=10,\n",
        "                  batch_size=128,\n",
        "                  shuffle=True,\n",
        "                  validation_data=(val_data, val_data))\n",
        "\n",
        "\n",
        ""
      ],
      "metadata": {
        "colab": {
          "base_uri": "https://localhost:8080/",
          "height": 0
        },
        "id": "mc0b-7GO4beD",
        "outputId": "21d08e73-b1f5-4dbb-faef-a91372202f9e"
      },
      "execution_count": 84,
      "outputs": [
        {
          "output_type": "stream",
          "name": "stdout",
          "text": [
            "Epoch 1/10\n",
            "106/106 [==============================] - 3s 18ms/step - loss: 0.3221 - val_loss: 0.2386\n",
            "Epoch 2/10\n",
            "106/106 [==============================] - 2s 19ms/step - loss: 0.2094 - val_loss: 0.1850\n",
            "Epoch 3/10\n",
            "106/106 [==============================] - 2s 18ms/step - loss: 0.1756 - val_loss: 0.1678\n",
            "Epoch 4/10\n",
            "106/106 [==============================] - 2s 17ms/step - loss: 0.1604 - val_loss: 0.1538\n",
            "Epoch 5/10\n",
            "106/106 [==============================] - 2s 15ms/step - loss: 0.1495 - val_loss: 0.1469\n",
            "Epoch 6/10\n",
            "106/106 [==============================] - 2s 15ms/step - loss: 0.1428 - val_loss: 0.1405\n",
            "Epoch 7/10\n",
            "106/106 [==============================] - 2s 14ms/step - loss: 0.1371 - val_loss: 0.1356\n",
            "Epoch 8/10\n",
            "106/106 [==============================] - 1s 14ms/step - loss: 0.1322 - val_loss: 0.1314\n",
            "Epoch 9/10\n",
            "106/106 [==============================] - 1s 12ms/step - loss: 0.1282 - val_loss: 0.1274\n",
            "Epoch 10/10\n",
            "106/106 [==============================] - 3s 32ms/step - loss: 0.1249 - val_loss: 0.1243\n",
            "Epoch 1/10\n",
            "106/106 [==============================] - 20s 171ms/step - loss: 0.3621 - val_loss: 0.2324\n",
            "Epoch 2/10\n",
            "106/106 [==============================] - 18s 166ms/step - loss: 0.2072 - val_loss: 0.1894\n",
            "Epoch 3/10\n",
            "106/106 [==============================] - 18s 170ms/step - loss: 0.1798 - val_loss: 0.1713\n",
            "Epoch 4/10\n",
            "106/106 [==============================] - 17s 158ms/step - loss: 0.1642 - val_loss: 0.1576\n",
            "Epoch 5/10\n",
            "106/106 [==============================] - 18s 172ms/step - loss: 0.1520 - val_loss: 0.1472\n",
            "Epoch 6/10\n",
            "106/106 [==============================] - 18s 170ms/step - loss: 0.1441 - val_loss: 0.1413\n",
            "Epoch 7/10\n",
            "106/106 [==============================] - 18s 168ms/step - loss: 0.1391 - val_loss: 0.1371\n",
            "Epoch 8/10\n",
            "106/106 [==============================] - 17s 160ms/step - loss: 0.1354 - val_loss: 0.1340\n",
            "Epoch 9/10\n",
            "106/106 [==============================] - 17s 159ms/step - loss: 0.1328 - val_loss: 0.1314\n",
            "Epoch 10/10\n",
            "106/106 [==============================] - 17s 164ms/step - loss: 0.1301 - val_loss: 0.1293\n"
          ]
        },
        {
          "output_type": "execute_result",
          "data": {
            "text/plain": [
              "<keras.src.callbacks.History at 0x79dd2991fe50>"
            ]
          },
          "metadata": {},
          "execution_count": 84
        }
      ]
    },
    {
      "cell_type": "markdown",
      "source": [
        "Here we can see how the cross validation is minimizing the loss"
      ],
      "metadata": {
        "id": "T6hQdrgaFPwd"
      }
    },
    {
      "cell_type": "code",
      "source": [
        "# Evaluate the autoencoder on the validation set\n",
        "val_loss = autoencoder_1.evaluate(val_data, val_data)\n",
        "print(f\"Fold {fold + 1} - Validation Loss: {val_loss}\")"
      ],
      "metadata": {
        "colab": {
          "base_uri": "https://localhost:8080/",
          "height": 0
        },
        "id": "0uyQxeUiAASB",
        "outputId": "544784b0-455b-4332-d117-631c57d9f64b"
      },
      "execution_count": 85,
      "outputs": [
        {
          "output_type": "stream",
          "name": "stdout",
          "text": [
            "106/106 [==============================] - 0s 3ms/step - loss: 0.1243\n",
            "Fold 5 - Validation Loss: 0.12430873513221741\n"
          ]
        }
      ]
    },
    {
      "cell_type": "markdown",
      "source": [
        "Across 5 fold CV we have the least loss on our data in our autoencoder_1"
      ],
      "metadata": {
        "id": "5lO9s7-UFlmw"
      }
    },
    {
      "cell_type": "code",
      "source": [
        "# Evaluate the autoencoder on the validation set\n",
        "val_loss_2 = autoencoder_2.evaluate(val_data, val_data)\n",
        "print(f\"Fold {fold + 1} - Validation Loss: {val_loss_2}\")"
      ],
      "metadata": {
        "colab": {
          "base_uri": "https://localhost:8080/",
          "height": 0
        },
        "id": "MmgrE04F_sRM",
        "outputId": "54758ce5-be76-4b25-a81c-8aa083f3cd59"
      },
      "execution_count": 86,
      "outputs": [
        {
          "output_type": "stream",
          "name": "stdout",
          "text": [
            "106/106 [==============================] - 1s 13ms/step - loss: 0.1293\n",
            "Fold 5 - Validation Loss: 0.12928225100040436\n"
          ]
        }
      ]
    },
    {
      "cell_type": "markdown",
      "source": [
        "autoencoder_2 also performed very well and gave almost the same loss value as the first in learning the features of these digits.\n"
      ],
      "metadata": {
        "id": "bXePK6z-F3xw"
      }
    },
    {
      "cell_type": "code",
      "source": [
        "# Evaluate the autoencoders on the test set\n",
        "decoded_imgs_1 = autoencoder_1.predict(val_data)\n",
        "decoded_imgs_2 = autoencoder_2.predict(val_data)\n"
      ],
      "metadata": {
        "colab": {
          "base_uri": "https://localhost:8080/",
          "height": 0
        },
        "id": "U3N7bFeg9TAd",
        "outputId": "bfda5de8-73cc-4dfa-8378-0eb5983f1837"
      },
      "execution_count": 87,
      "outputs": [
        {
          "output_type": "stream",
          "name": "stdout",
          "text": [
            "106/106 [==============================] - 1s 4ms/step\n",
            "106/106 [==============================] - 2s 15ms/step\n"
          ]
        }
      ]
    },
    {
      "cell_type": "markdown",
      "source": [
        "So now I am just predicting on test data so that I can make plots to visualize the results."
      ],
      "metadata": {
        "id": "0eqoCChdGJtN"
      }
    },
    {
      "cell_type": "code",
      "execution_count": 88,
      "metadata": {
        "colab": {
          "base_uri": "https://localhost:8080/",
          "height": 417
        },
        "id": "1SXqLg2kdiR5",
        "outputId": "4ce77c8c-9b3b-4ab9-9d72-68dd34c16d3a"
      },
      "outputs": [
        {
          "output_type": "display_data",
          "data": {
            "text/plain": [
              "<Figure size 2000x600 with 30 Axes>"
            ],
            "image/png": "[encoded data removed]"
          },
          "metadata": {}
        }
      ],
      "source": [
        "# Display a few original and reconstructed images for both autoencoders\n",
        "n = 10\n",
        "plt.figure(figsize=(20, 6))\n",
        "for i in range(n):\n",
        "    # Display original images\n",
        "    ax = plt.subplot(3, n, i + 1)\n",
        "    plt.imshow(val_data[i].reshape(28, 28))\n",
        "    plt.gray()\n",
        "    ax.get_xaxis().set_visible(False)\n",
        "    ax.get_yaxis().set_visible(False)\n",
        "\n",
        "    # Display reconstructed images for autoencoder 1\n",
        "    ax = plt.subplot(3, n, i + 1 + n)\n",
        "    plt.imshow(decoded_imgs_1[i].reshape(28, 28))\n",
        "    plt.gray()\n",
        "    ax.get_xaxis().set_visible(False)\n",
        "    ax.get_yaxis().set_visible(False)\n",
        "\n",
        "    # Display reconstructed images for autoencoder 2\n",
        "    ax = plt.subplot(3, n, i + 1 + 2 * n)\n",
        "    plt.imshow(decoded_imgs_2[i].reshape(28, 28))\n",
        "    plt.gray()\n",
        "    ax.get_xaxis().set_visible(False)\n",
        "    ax.get_yaxis().set_visible(False)\n",
        "\n",
        "plt.show()"
      ]
    },
    {
      "cell_type": "markdown",
      "source": [
        "So here we can see that both models performed very well in predicting the number 3 in 10 instances and although they do not all look like the same hand writing my model was able to greatly learn these features and allow us to resconstruct them almost exactly as the original images.\n",
        "\n",
        "Also the AutoEncoder does feature learning through dimensionality reduction so that is why the reconstructed images are a little blurrier that the original.\n",
        "\n",
        "\n",
        "So Finally, my models performed very well on test sets eventhough these were previously unseen data to the model.\n",
        "This is expected because the model was trained well and with the ability of the neural networks to perform backward propagation also allows me to minize loss."
      ],
      "metadata": {
        "id": "dNGHW8bTG01S"
      }
    }
  ],
  "metadata": {
    "colab": {
      "provenance": []
    },
    "kernelspec": {
      "display_name": "Python 3",
      "name": "python3"
    },
    "language_info": {
      "name": "python"
    }
  },
  "nbformat": 4,
  "nbformat_minor": 0
}